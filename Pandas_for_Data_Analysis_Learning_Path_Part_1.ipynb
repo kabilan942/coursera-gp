{
  "cells": [
    {
      "cell_type": "markdown",
      "metadata": {
        "id": "view-in-github",
        "colab_type": "text"
      },
      "source": [
        "<a href=\"https://colab.research.google.com/github/kabilan942/coursera-gp/blob/main/Pandas_for_Data_Analysis_Learning_Path_Part_1.ipynb\" target=\"_parent\"><img src=\"https://colab.research.google.com/assets/colab-badge.svg\" alt=\"Open In Colab\"/></a>"
      ]
    },
    {
      "cell_type": "markdown",
      "metadata": {
        "id": "1ivPDcc7p8lD"
      },
      "source": [
        "# TASK #1. DEFINE A PANDAS SERIES"
      ]
    },
    {
      "cell_type": "code",
      "execution_count": 5,
      "metadata": {
        "id": "4YdCraz8p_XF"
      },
      "outputs": [],
      "source": [
        "# Pandas is a data manipulation and analysis tool that is built on Numpy.\n",
        "# Pandas uses a data structure known as DataFrame (think of it as Microsoft excel in Python). \n",
        "# DataFrames empower programmers to store and manipulate data in a tabular fashion (rows and columns).\n",
        "# Series Vs. DataFrame? Series is considered a single column of a DataFrame.\n",
        "\n",
        "import pandas as pd\n"
      ]
    },
    {
      "cell_type": "code",
      "execution_count": 6,
      "metadata": {
        "colab": {
          "base_uri": "https://localhost:8080/"
        },
        "id": "SA9m0RD3K2TF",
        "outputId": "836aa344-0785-4bb1-dd29-aab40b90c029"
      },
      "outputs": [
        {
          "output_type": "execute_result",
          "data": {
            "text/plain": [
              "['BTC', 'XRP', 'LTC', 'ADA', 'ETH']"
            ]
          },
          "metadata": {},
          "execution_count": 6
        }
      ],
      "source": [
        "# Let's define a Python list that contains 5 crypto currencies \n",
        "crypto_list = ['BTC', 'XRP', 'LTC', 'ADA', 'ETH']\n",
        "crypto_list"
      ]
    },
    {
      "cell_type": "code",
      "execution_count": 7,
      "metadata": {
        "colab": {
          "base_uri": "https://localhost:8080/"
        },
        "id": "G-fooAckNafC",
        "outputId": "c19a7a0e-cbd9-4edb-f584-f6b4a1b2c90b",
        "scrolled": true
      },
      "outputs": [
        {
          "output_type": "execute_result",
          "data": {
            "text/plain": [
              "list"
            ]
          },
          "metadata": {},
          "execution_count": 7
        }
      ],
      "source": [
        "# Let's confirm the Datatyptype\n",
        "type(crypto_list)"
      ]
    },
    {
      "cell_type": "code",
      "execution_count": 9,
      "metadata": {
        "id": "hle4zw51K6-P"
      },
      "outputs": [],
      "source": [
        "# Let's create a one dimensional Pandas \"series\" \n",
        "# Let's use Pandas Constructor Method to create a series from a Python list\n",
        "# Note that series is formed of data and associated index (numeric index has been automatically generated) \n",
        "# Check Pandas Documentation for More information: https://pandas.pydata.org/pandas-docs/stable/reference/api/pandas.Series.html#pandas.Series\n",
        "# Object datatype is used for text data (String)\n",
        "\n",
        "crypto_series = pd.Series(data=crypto_list)\n"
      ]
    },
    {
      "cell_type": "code",
      "execution_count": 10,
      "metadata": {
        "colab": {
          "base_uri": "https://localhost:8080/"
        },
        "id": "-HNCtPcoNUyf",
        "outputId": "f49fbf19-ef69-4b15-f6e6-39cf9797e4f1"
      },
      "outputs": [
        {
          "output_type": "execute_result",
          "data": {
            "text/plain": [
              "pandas.core.series.Series"
            ]
          },
          "metadata": {},
          "execution_count": 10
        }
      ],
      "source": [
        "# Let's confirm the Pandas Series Datatype\n",
        "type(crypto_series)"
      ]
    },
    {
      "cell_type": "code",
      "execution_count": 11,
      "metadata": {
        "colab": {
          "base_uri": "https://localhost:8080/"
        },
        "id": "LB2J-qw5LdQI",
        "outputId": "96de9bc4-bb98-4832-c332-0bc8a705407a"
      },
      "outputs": [
        {
          "output_type": "execute_result",
          "data": {
            "text/plain": [
              "0    1000\n",
              "1    3000\n",
              "2     500\n",
              "dtype: int64"
            ]
          },
          "metadata": {},
          "execution_count": 11
        }
      ],
      "source": [
        "# Let's define another Pandas Series that contains numeric values (crypto prices) instead of text data\n",
        "# Note that we have int64 datatype which means it's integer stored in 64 bits in memory\n",
        "\n",
        "crypto_num = pd.Series(data = [1000, 3000, 500])\n",
        "crypto_num"
      ]
    },
    {
      "cell_type": "markdown",
      "metadata": {
        "id": "8C0UN46KIntM"
      },
      "source": [
        "**MINI CHALLENGE #1:**\n",
        "- **Define a Pandas Series named \"my_series\" that contains your top 3 favourite stocks. Confirm the datatype of \"my_series\"**"
      ]
    },
    {
      "cell_type": "code",
      "execution_count": null,
      "metadata": {
        "id": "l2aMAKvpJyWH"
      },
      "outputs": [],
      "source": [
        ""
      ]
    },
    {
      "cell_type": "markdown",
      "metadata": {
        "id": "XN92TgiQOD7I"
      },
      "source": [
        "# TASK #2. DEFINE A PANDAS SERIES WITH CUSTOM INDEX"
      ]
    },
    {
      "cell_type": "code",
      "execution_count": null,
      "metadata": {
        "colab": {
          "base_uri": "https://localhost:8080/"
        },
        "id": "K4Y9jVx1OaN4",
        "outputId": "bb27d7de-b628-4d2e-d514-b372f8028f3c"
      },
      "outputs": [
        {
          "data": {
            "text/plain": [
              "['BTC', 'XRP', 'LTC', 'ADA', 'ETH']"
            ]
          },
          "execution_count": 7,
          "metadata": {},
          "output_type": "execute_result"
        }
      ],
      "source": [
        "# Let's define a Python list that contains 5 Crypto currencies\n"
      ]
    },
    {
      "cell_type": "code",
      "execution_count": null,
      "metadata": {
        "colab": {
          "base_uri": "https://localhost:8080/"
        },
        "id": "ZSxdgs_xJvxx",
        "outputId": "6236c8f5-d62a-4ef9-9f12-8df4561ea8eb"
      },
      "outputs": [
        {
          "data": {
            "text/plain": [
              "['crypto#1', 'crypto#2', 'crypto#3', 'crypto#4', 'crypto#5']"
            ]
          },
          "execution_count": 8,
          "metadata": {},
          "output_type": "execute_result"
        }
      ],
      "source": [
        "# Let's define a python list as shown below. This python list will be used for the Series index:\n"
      ]
    },
    {
      "cell_type": "code",
      "execution_count": null,
      "metadata": {
        "id": "U4Fq06XwqX9v"
      },
      "outputs": [],
      "source": [
        "# Let's create a one dimensional Pandas \"series\" \n",
        "# Let's use Pandas Constructor Method to create a series from a Python list\n",
        "# Note that this series is formed of data and associated labels \n"
      ]
    },
    {
      "cell_type": "code",
      "execution_count": null,
      "metadata": {
        "colab": {
          "base_uri": "https://localhost:8080/"
        },
        "id": "YhPzprisqX_8",
        "outputId": "bbc1914a-67a3-4226-9827-da1657710c5d"
      },
      "outputs": [
        {
          "data": {
            "text/plain": [
              "crypto#1    BTC\n",
              "crypto#2    XRP\n",
              "crypto#3    LTC\n",
              "crypto#4    ADA\n",
              "crypto#5    ETH\n",
              "dtype: object"
            ]
          },
          "execution_count": 10,
          "metadata": {},
          "output_type": "execute_result"
        }
      ],
      "source": [
        "# Let's view the series\n"
      ]
    },
    {
      "cell_type": "code",
      "execution_count": null,
      "metadata": {
        "colab": {
          "base_uri": "https://localhost:8080/"
        },
        "id": "4LPwMO8fsvi1",
        "outputId": "1d1a2f35-2932-49f3-e4b0-e6176c34d1a8"
      },
      "outputs": [
        {
          "data": {
            "text/plain": [
              "pandas.core.series.Series"
            ]
          },
          "execution_count": 11,
          "metadata": {},
          "output_type": "execute_result"
        }
      ],
      "source": [
        "# Let's obtain the datatype\n"
      ]
    },
    {
      "cell_type": "markdown",
      "metadata": {
        "id": "13icipAKL4W5"
      },
      "source": [
        "**MINI CHALLENGE #2:**\n",
        "- **Define a Pandas Series named \"my_series\" that contains your top 3 favourite stocks. Instead of using default numeric indexes (similar to mini challenge #1), use the following indexes \"stock #1\", \"stock #2\", and \"stock #3\"**"
      ]
    },
    {
      "cell_type": "code",
      "execution_count": null,
      "metadata": {
        "id": "NZBRmbbuL8OC"
      },
      "outputs": [],
      "source": [
        ""
      ]
    },
    {
      "cell_type": "markdown",
      "metadata": {
        "id": "96EH6h9SQYW1"
      },
      "source": [
        "# TASK #3. DEFINE A PANDAS SERIES FROM A DICTIONARY"
      ]
    },
    {
      "cell_type": "code",
      "execution_count": null,
      "metadata": {
        "id": "fk9R_fZlML_y"
      },
      "outputs": [],
      "source": [
        "# A Dictionary consists of a collection of key-value pairs. Each key-value pair maps the key to its corresponding value.\n",
        "# Keys are unique within a dictionary while values may not be. \n",
        "# List elements are accessed by their position in the list, via indexing while Dictionary elements are accessed via keys\n",
        "# Define a dictionary named \"my_dict\" using key-value pairs\n"
      ]
    },
    {
      "cell_type": "code",
      "execution_count": null,
      "metadata": {
        "colab": {
          "base_uri": "https://localhost:8080/"
        },
        "id": "BlHhf-YPQdrB",
        "outputId": "8b32d4de-c0e0-4399-a67a-b90d33b99dd0"
      },
      "outputs": [
        {
          "data": {
            "text/plain": [
              "{'Employee ID': 1,\n",
              " 'Employee Name': 'Steve',\n",
              " 'Salary [$]': 2000,\n",
              " 'Years with company': 10}"
            ]
          },
          "execution_count": 13,
          "metadata": {},
          "output_type": "execute_result"
        }
      ],
      "source": [
        "# Show the dictionary\n"
      ]
    },
    {
      "cell_type": "code",
      "execution_count": null,
      "metadata": {
        "colab": {
          "base_uri": "https://localhost:8080/"
        },
        "id": "0b4KQo3JMcI0",
        "outputId": "0223f43e-a5a1-4759-96db-357481a582ab"
      },
      "outputs": [
        {
          "data": {
            "text/plain": [
              "dict"
            ]
          },
          "execution_count": 14,
          "metadata": {},
          "output_type": "execute_result"
        }
      ],
      "source": [
        "# Confirm the dictionary datatype \n"
      ]
    },
    {
      "cell_type": "code",
      "execution_count": null,
      "metadata": {
        "colab": {
          "base_uri": "https://localhost:8080/"
        },
        "id": "LeH27Q4aQeXe",
        "outputId": "e7e8c45a-7c15-4975-dc3f-d04526840b0e"
      },
      "outputs": [
        {
          "data": {
            "text/plain": [
              "Employee ID               1\n",
              "Employee Name         Steve\n",
              "Salary [$]             2000\n",
              "Years with company       10\n",
              "dtype: object"
            ]
          },
          "execution_count": 15,
          "metadata": {},
          "output_type": "execute_result"
        }
      ],
      "source": [
        "# Let's define a Pandas Series Using the dictionary\n"
      ]
    },
    {
      "cell_type": "markdown",
      "metadata": {
        "id": "_Tk4kxlLNI85"
      },
      "source": [
        "**MINI CHALLENGE #3:**\n",
        "- **Create a Pandas Series from a dictionary with 3 of your favourite stocks and their corresponding prices** "
      ]
    },
    {
      "cell_type": "code",
      "execution_count": null,
      "metadata": {
        "id": "nlG7J4oKNLuY"
      },
      "outputs": [],
      "source": [
        ""
      ]
    },
    {
      "cell_type": "markdown",
      "metadata": {
        "id": "VGlb7t7WRIR3"
      },
      "source": [
        "# TASK #4. PANDAS ATTRIBUTES"
      ]
    },
    {
      "cell_type": "code",
      "execution_count": null,
      "metadata": {
        "colab": {
          "base_uri": "https://localhost:8080/"
        },
        "id": "p4FauWQlRRD8",
        "outputId": "e4886437-037a-4c0d-d101-4ae420394a55"
      },
      "outputs": [
        {
          "data": {
            "text/plain": [
              "0    BTC\n",
              "1    XRP\n",
              "2    LTC\n",
              "3    ADA\n",
              "4    ETH\n",
              "dtype: object"
            ]
          },
          "execution_count": 16,
          "metadata": {},
          "output_type": "execute_result"
        }
      ],
      "source": [
        "# Attributes/Properties: do not use parantheses \"()\" and are used to get Pandas Series Properties. Ex: my_series.values, my_series.shape\n",
        "# Methods: use parantheses \"()\" and might include arguments and they actually alter/change the Pandas Series. Ex: my_series.tail(), my_series.head(), my_series.drop_duplicates()\n",
        "# Indexers: use square brackets \"[]\" and are used to access specific elements in a Pandas Series or DataFrame. Ex: my_series.loc[], my_series.iloc[]\n",
        "\n",
        "# Let's redefine a Pandas Series containing our favourite 5 cryptos \n"
      ]
    },
    {
      "cell_type": "code",
      "execution_count": null,
      "metadata": {
        "colab": {
          "base_uri": "https://localhost:8080/"
        },
        "id": "KBgZI_vHQeeA",
        "outputId": "15e55866-6ba6-4092-d147-ebd9ea3db158"
      },
      "outputs": [
        {
          "data": {
            "text/plain": [
              "array(['BTC', 'XRP', 'LTC', 'ADA', 'ETH'], dtype=object)"
            ]
          },
          "execution_count": 17,
          "metadata": {},
          "output_type": "execute_result"
        }
      ],
      "source": [
        "# \".Values\" attribute is used to return Series as ndarray depending on its dtype\n",
        "# Check this for more information: https://pandas.pydata.org/docs/reference/api/pandas.Series.values.html#pandas.Series.values\n"
      ]
    },
    {
      "cell_type": "code",
      "execution_count": null,
      "metadata": {
        "colab": {
          "base_uri": "https://localhost:8080/"
        },
        "id": "YDunyBEQRtoJ",
        "outputId": "b871c285-8973-4076-9c77-61898c193f42"
      },
      "outputs": [
        {
          "data": {
            "text/plain": [
              "RangeIndex(start=0, stop=5, step=1)"
            ]
          },
          "execution_count": 18,
          "metadata": {},
          "output_type": "execute_result"
        }
      ],
      "source": [
        "# index is used to return the index (axis labels) of the Series\n"
      ]
    },
    {
      "cell_type": "code",
      "execution_count": null,
      "metadata": {
        "colab": {
          "base_uri": "https://localhost:8080/"
        },
        "id": "7bgfGfQaSrqw",
        "outputId": "1500e3b0-a9da-4d61-cbe2-fdf8fe296a1e"
      },
      "outputs": [
        {
          "data": {
            "text/plain": [
              "dtype('O')"
            ]
          },
          "execution_count": 19,
          "metadata": {},
          "output_type": "execute_result"
        }
      ],
      "source": [
        "# dtype is used to return the datatype of the Series ('O' stands for 'object' datatype)\n"
      ]
    },
    {
      "cell_type": "code",
      "execution_count": null,
      "metadata": {
        "colab": {
          "base_uri": "https://localhost:8080/"
        },
        "id": "XeQtP9v2dxzu",
        "outputId": "6689f7de-159f-48d3-9abf-bba1c6f6b198"
      },
      "outputs": [
        {
          "data": {
            "text/plain": [
              "True"
            ]
          },
          "execution_count": 20,
          "metadata": {},
          "output_type": "execute_result"
        }
      ],
      "source": [
        "# Check if all elements are unique or not\n"
      ]
    },
    {
      "cell_type": "code",
      "execution_count": null,
      "metadata": {
        "colab": {
          "base_uri": "https://localhost:8080/"
        },
        "id": "8VWnKVh0d7Kw",
        "outputId": "dca8b133-a9c1-432d-ed9d-9f9056224e62"
      },
      "outputs": [
        {
          "data": {
            "text/plain": [
              "(5,)"
            ]
          },
          "execution_count": 21,
          "metadata": {},
          "output_type": "execute_result"
        }
      ],
      "source": [
        "# Check the shape of the Series\n",
        "# note that a Series is one dimensional\n"
      ]
    },
    {
      "cell_type": "markdown",
      "metadata": {
        "id": "gPL7KbA3XGr1"
      },
      "source": [
        "**MINI CHALLENGE #4:** \n",
        "- **What is the size of the Pandas Series? (External Research for the proper attribute is Required)**"
      ]
    },
    {
      "cell_type": "code",
      "execution_count": null,
      "metadata": {
        "id": "SyfddtryXbmX"
      },
      "outputs": [],
      "source": [
        ""
      ]
    },
    {
      "cell_type": "markdown",
      "metadata": {
        "id": "Qc7sVau-UtYt"
      },
      "source": [
        "# TASK #5. PANDAS METHODS"
      ]
    },
    {
      "cell_type": "code",
      "execution_count": null,
      "metadata": {
        "colab": {
          "base_uri": "https://localhost:8080/"
        },
        "id": "5gwWM4VvUxI2",
        "outputId": "7cb2d91b-0317-4708-9140-053a2ac721c2"
      },
      "outputs": [
        {
          "data": {
            "text/plain": [
              "0     400\n",
              "1     500\n",
              "2    1500\n",
              "3      20\n",
              "4      70\n",
              "dtype: int64"
            ]
          },
          "execution_count": 22,
          "metadata": {},
          "output_type": "execute_result"
        }
      ],
      "source": [
        "# Methods have parentheses and they actually alter/change the Pandas Series\n",
        "# Methods: use parantheses \"()\" and might include arguments. Ex: my_series.tail(), my_series.head(), my_series.drop_duplicates()\n",
        "\n",
        "# Let's define another Pandas Series that contains numeric values (crypto prices) instead of text data\n",
        "# Note that we have int64 datatype which means it contains integer values stored in 64 bits in memory\n"
      ]
    },
    {
      "cell_type": "code",
      "execution_count": null,
      "metadata": {
        "colab": {
          "base_uri": "https://localhost:8080/"
        },
        "id": "ImwFgVASUxLa",
        "outputId": "9f7b7f3b-b8fb-4ebf-e224-fa7c43197d3f"
      },
      "outputs": [
        {
          "data": {
            "text/plain": [
              "2490"
            ]
          },
          "execution_count": 23,
          "metadata": {},
          "output_type": "execute_result"
        }
      ],
      "source": [
        "# Let's obtain the sum of all elements in the Pandas Series\n"
      ]
    },
    {
      "cell_type": "code",
      "execution_count": null,
      "metadata": {
        "colab": {
          "base_uri": "https://localhost:8080/"
        },
        "id": "OLa69YwxUxOa",
        "outputId": "158234c1-4535-45b8-ae26-677f57238f08"
      },
      "outputs": [
        {
          "data": {
            "text/plain": [
              "420000000000"
            ]
          },
          "execution_count": 24,
          "metadata": {},
          "output_type": "execute_result"
        }
      ],
      "source": [
        "# Let's obtain the multiplication of all elements in the Pandas Series\n"
      ]
    },
    {
      "cell_type": "code",
      "execution_count": null,
      "metadata": {
        "colab": {
          "base_uri": "https://localhost:8080/"
        },
        "id": "xVMJtbtkUxQ-",
        "outputId": "650e2e87-2838-460a-98ae-09d1eb01cdcb"
      },
      "outputs": [
        {
          "data": {
            "text/plain": [
              "498.0"
            ]
          },
          "execution_count": 25,
          "metadata": {},
          "output_type": "execute_result"
        }
      ],
      "source": [
        "# Let's obtain the average\n"
      ]
    },
    {
      "cell_type": "code",
      "execution_count": null,
      "metadata": {
        "colab": {
          "base_uri": "https://localhost:8080/"
        },
        "id": "FgqSFr98YTUw",
        "outputId": "afaf3e7b-b5c1-4d1c-b99d-dd1bc9af90e3"
      },
      "outputs": [
        {
          "data": {
            "text/plain": [
              "0    400\n",
              "1    500\n",
              "dtype: int64"
            ]
          },
          "execution_count": 26,
          "metadata": {},
          "output_type": "execute_result"
        }
      ],
      "source": [
        "# Let's show the first couple of elements in the Pandas Series\n"
      ]
    },
    {
      "cell_type": "code",
      "execution_count": null,
      "metadata": {
        "colab": {
          "base_uri": "https://localhost:8080/"
        },
        "id": "GFoxw41LZrBs",
        "outputId": "3aefbee8-0c98-44f4-a0b1-fd3b8a08899e"
      },
      "outputs": [
        {
          "data": {
            "text/plain": [
              "0     400\n",
              "1     500\n",
              "2    1500\n",
              "dtype: int64"
            ]
          },
          "execution_count": 27,
          "metadata": {},
          "output_type": "execute_result"
        }
      ],
      "source": [
        "# Note that head creates a new dataframe \n"
      ]
    },
    {
      "cell_type": "markdown",
      "metadata": {
        "id": "DHknLT4PTrjn"
      },
      "source": [
        "**MINI CHALLENGE #5:** \n",
        "- **Show the last 2 rows in the Pandas Series (External Research is Required)** \n",
        "- **How many bytes does this Pandas Series consume in memory? (External Research is Required)**"
      ]
    },
    {
      "cell_type": "code",
      "execution_count": null,
      "metadata": {
        "id": "UUiOynSPSshX"
      },
      "outputs": [],
      "source": [
        ""
      ]
    },
    {
      "cell_type": "markdown",
      "metadata": {
        "id": "vzu3jPDbasz5"
      },
      "source": [
        "# TASK #6. IMPORT CSV DATA (1-D) USING PANDAS"
      ]
    },
    {
      "cell_type": "code",
      "execution_count": null,
      "metadata": {
        "id": "zLiVpmH2asz6"
      },
      "outputs": [],
      "source": [
        "# Pandas read_csv is used to read a csv file and store data in a DataFrame by default (DataFrames will be covered shortly!)\n",
        "# Use Squeeze to convert it into a Pandas Series (One-dimensional)\n",
        "# Notice that no foramtting exists when a Series is plotted\n"
      ]
    },
    {
      "cell_type": "code",
      "execution_count": null,
      "metadata": {
        "id": "Py1fYuPFasz6",
        "outputId": "ba6c156e-f8b9-4ab5-c53b-347e9d0206b8"
      },
      "outputs": [
        {
          "data": {
            "text/plain": [
              "0         457.334015\n",
              "1         424.440002\n",
              "2         394.795990\n",
              "3         408.903992\n",
              "4         398.821014\n",
              "            ...     \n",
              "2380    55950.746090\n",
              "2381    57750.199220\n",
              "2382    58917.691410\n",
              "2383    58918.832030\n",
              "2384    59095.808590\n",
              "Name: BTC-USD Price, Length: 2385, dtype: float64"
            ]
          },
          "execution_count": 29,
          "metadata": {},
          "output_type": "execute_result"
        }
      ],
      "source": [
        ""
      ]
    },
    {
      "cell_type": "markdown",
      "metadata": {
        "id": "CykEEAr9S--X"
      },
      "source": [
        "**MINI CHALLENGE #6:**\n",
        "- **Set Squeeze = False and rerun the cell, what do you notice? Use Type to compare both outputs**"
      ]
    },
    {
      "cell_type": "code",
      "execution_count": null,
      "metadata": {
        "id": "DVEio_JnTArn"
      },
      "outputs": [],
      "source": [
        ""
      ]
    },
    {
      "cell_type": "markdown",
      "metadata": {
        "id": "8HBGOWjKaK_i"
      },
      "source": [
        "# TASK #7. PANDAS BUILT-IN FUNCTIONS"
      ]
    },
    {
      "cell_type": "code",
      "execution_count": null,
      "metadata": {
        "id": "-Q-1iWEqaP6y"
      },
      "outputs": [],
      "source": [
        "# Pandas works great with pre-existing python functions \n",
        "# You don't have to play with pandas methods and directly leverage Python functions\n",
        "# Check Python built-in functions here: https://docs.python.org/3/library/functions.html\n"
      ]
    },
    {
      "cell_type": "code",
      "execution_count": null,
      "metadata": {
        "id": "g759k2IPdVH-",
        "outputId": "dac3ea19-6bec-4ab5-ef0d-a7d13b8c15ec"
      },
      "outputs": [
        {
          "data": {
            "text/plain": [
              "pandas.core.series.Series"
            ]
          },
          "execution_count": 31,
          "metadata": {},
          "output_type": "execute_result"
        }
      ],
      "source": [
        "# Obtain the Data Type of the Pandas Series\n"
      ]
    },
    {
      "cell_type": "code",
      "execution_count": null,
      "metadata": {
        "id": "NbKysqrSaQ32",
        "outputId": "0b3f58d9-7186-4176-fae4-f541d8fd9602"
      },
      "outputs": [
        {
          "data": {
            "text/plain": [
              "2385"
            ]
          },
          "execution_count": 32,
          "metadata": {},
          "output_type": "execute_result"
        }
      ],
      "source": [
        "# Obtain the length of the Pandas Series\n"
      ]
    },
    {
      "cell_type": "code",
      "execution_count": null,
      "metadata": {
        "id": "FeeA8actaQ6P",
        "outputId": "3d70997a-a00e-49e2-b629-3aa94e32f290"
      },
      "outputs": [
        {
          "data": {
            "text/plain": [
              "61243.08594"
            ]
          },
          "execution_count": 33,
          "metadata": {},
          "output_type": "execute_result"
        }
      ],
      "source": [
        "# Obtain the maximum value of the Pandas Series\n"
      ]
    },
    {
      "cell_type": "code",
      "execution_count": null,
      "metadata": {
        "id": "fyhw96-JaQ8a",
        "outputId": "46ada082-9a95-4f28-ffd7-e839e2f64ef8"
      },
      "outputs": [
        {
          "data": {
            "text/plain": [
              "178.1029968"
            ]
          },
          "execution_count": 34,
          "metadata": {},
          "output_type": "execute_result"
        }
      ],
      "source": [
        "# Obtain the minimum value of the Pandas Series\n"
      ]
    },
    {
      "cell_type": "markdown",
      "metadata": {
        "id": "NCnRK6oMVCtg"
      },
      "source": [
        "**MINI CHALLENGE #7:**\n",
        "- **Given the following Pandas Series, convert all positive values to negative using python built-in functions**\n",
        "- **Obtain only unique values (ie: Remove duplicates) using python built-in functions**\n",
        "- my_series = pd.Series(data = [-10, 100, -30, 50, 100])\n"
      ]
    },
    {
      "cell_type": "code",
      "execution_count": null,
      "metadata": {
        "id": "DG-Tjp6PVEpW"
      },
      "outputs": [],
      "source": [
        ""
      ]
    },
    {
      "cell_type": "markdown",
      "metadata": {
        "id": "LKDuJ94RvB85"
      },
      "source": [
        "# TASK #8. SORTING PANDAS SERIES"
      ]
    },
    {
      "cell_type": "code",
      "execution_count": null,
      "metadata": {
        "id": "f-aRTmn9u7DA",
        "outputId": "71702983-404b-4d39-a6f9-319228b4241e"
      },
      "outputs": [
        {
          "data": {
            "text/plain": [
              "0         457.334015\n",
              "1         424.440002\n",
              "2         394.795990\n",
              "3         408.903992\n",
              "4         398.821014\n",
              "            ...     \n",
              "2380    55950.746090\n",
              "2381    57750.199220\n",
              "2382    58917.691410\n",
              "2383    58918.832030\n",
              "2384    59095.808590\n",
              "Name: BTC-USD Price, Length: 2385, dtype: float64"
            ]
          },
          "execution_count": 35,
          "metadata": {},
          "output_type": "execute_result"
        }
      ],
      "source": [
        "# Let's import CSV data as follows:\n"
      ]
    },
    {
      "cell_type": "code",
      "execution_count": null,
      "metadata": {
        "id": "DaglhPNevFYC",
        "outputId": "5ec92331-98e4-4e77-a17f-388de20cdf55"
      },
      "outputs": [
        {
          "data": {
            "text/plain": [
              "119       178.102997\n",
              "122       199.259995\n",
              "121       208.097000\n",
              "120       209.843994\n",
              "123       210.339004\n",
              "            ...     \n",
              "2382    58917.691410\n",
              "2383    58918.832030\n",
              "2384    59095.808590\n",
              "2366    59302.316410\n",
              "2365    61243.085940\n",
              "Name: BTC-USD Price, Length: 2385, dtype: float64"
            ]
          },
          "execution_count": 36,
          "metadata": {},
          "output_type": "execute_result"
        }
      ],
      "source": [
        "# You can sort the values in the dataframe as follows\n"
      ]
    },
    {
      "cell_type": "code",
      "execution_count": null,
      "metadata": {
        "id": "AjzLtDlevFaW",
        "outputId": "462c5527-cef6-4cd8-e47e-da06977cbb9d"
      },
      "outputs": [
        {
          "data": {
            "text/plain": [
              "0         457.334015\n",
              "1         424.440002\n",
              "2         394.795990\n",
              "3         408.903992\n",
              "4         398.821014\n",
              "            ...     \n",
              "2380    55950.746090\n",
              "2381    57750.199220\n",
              "2382    58917.691410\n",
              "2383    58918.832030\n",
              "2384    59095.808590\n",
              "Name: BTC-USD Price, Length: 2385, dtype: float64"
            ]
          },
          "execution_count": 37,
          "metadata": {},
          "output_type": "execute_result"
        }
      ],
      "source": [
        "# Let's view Pandas Series again after sorting, Note that nothing changed in memory! you have to make sure that inplace is set to True\n"
      ]
    },
    {
      "cell_type": "code",
      "execution_count": null,
      "metadata": {
        "id": "Pgt25eXmvFce"
      },
      "outputs": [],
      "source": [
        "# Set inplace = True to ensure that change has taken place in memory \n"
      ]
    },
    {
      "cell_type": "code",
      "execution_count": null,
      "metadata": {
        "id": "jEw2Gw_hu7Fo",
        "outputId": "05f8e0a7-8965-42d1-ab26-8610f2031ad4"
      },
      "outputs": [
        {
          "data": {
            "text/plain": [
              "119       178.102997\n",
              "122       199.259995\n",
              "121       208.097000\n",
              "120       209.843994\n",
              "123       210.339004\n",
              "            ...     \n",
              "2382    58917.691410\n",
              "2383    58918.832030\n",
              "2384    59095.808590\n",
              "2366    59302.316410\n",
              "2365    61243.085940\n",
              "Name: BTC-USD Price, Length: 2385, dtype: float64"
            ]
          },
          "execution_count": 39,
          "metadata": {},
          "output_type": "execute_result"
        }
      ],
      "source": [
        "# Note that now the change (ordering) took place \n"
      ]
    },
    {
      "cell_type": "code",
      "execution_count": null,
      "metadata": {
        "id": "6wi0QnU5iGk8",
        "outputId": "f7fe01d6-fc8a-471f-a20a-a640b800bb5d"
      },
      "outputs": [
        {
          "data": {
            "text/plain": [
              "0         457.334015\n",
              "1         424.440002\n",
              "2         394.795990\n",
              "3         408.903992\n",
              "4         398.821014\n",
              "            ...     \n",
              "2380    55950.746090\n",
              "2381    57750.199220\n",
              "2382    58917.691410\n",
              "2383    58918.832030\n",
              "2384    59095.808590\n",
              "Name: BTC-USD Price, Length: 2385, dtype: float64"
            ]
          },
          "execution_count": 40,
          "metadata": {},
          "output_type": "execute_result"
        }
      ],
      "source": [
        "# Notice that the indexes are now changed \n",
        "# You can also sort by index (revert back to the original Pandas Series) as follows: \n"
      ]
    },
    {
      "cell_type": "markdown",
      "metadata": {
        "id": "7bV_Yaq46ZTg"
      },
      "source": [
        "**MINI CHALLENGE #8:**\n",
        "- **Sort the BTC_price_series values in a decending order instead. Make sure to update values in-memory.**"
      ]
    },
    {
      "cell_type": "code",
      "execution_count": null,
      "metadata": {
        "id": "zw0acoYEkDJB"
      },
      "outputs": [],
      "source": [
        ""
      ]
    },
    {
      "cell_type": "markdown",
      "metadata": {
        "id": "1QT7bBFCkDhh"
      },
      "source": [
        "# TASK #9. PERFORM MATH OPERATIONS ON PANDAS SERIES"
      ]
    },
    {
      "cell_type": "code",
      "execution_count": null,
      "metadata": {
        "id": "UXFGCV4SkI4O",
        "outputId": "2802e000-fea0-4642-ce99-e45ac270555e"
      },
      "outputs": [
        {
          "data": {
            "text/plain": [
              "0         457.334015\n",
              "1         424.440002\n",
              "2         394.795990\n",
              "3         408.903992\n",
              "4         398.821014\n",
              "            ...     \n",
              "2380    55950.746090\n",
              "2381    57750.199220\n",
              "2382    58917.691410\n",
              "2383    58918.832030\n",
              "2384    59095.808590\n",
              "Name: BTC-USD Price, Length: 2385, dtype: float64"
            ]
          },
          "execution_count": 41,
          "metadata": {},
          "output_type": "execute_result"
        }
      ],
      "source": [
        "# Let's import CSV data as follows:\n"
      ]
    },
    {
      "cell_type": "code",
      "execution_count": null,
      "metadata": {
        "id": "Qpo7M9yYkJPQ",
        "outputId": "f129e6fb-163f-4ca5-a294-222506f7cc84"
      },
      "outputs": [
        {
          "data": {
            "text/plain": [
              "15435379.738852698"
            ]
          },
          "execution_count": 42,
          "metadata": {},
          "output_type": "execute_result"
        }
      ],
      "source": [
        "# Apply Sum Method on Pandas Series\n"
      ]
    },
    {
      "cell_type": "code",
      "execution_count": null,
      "metadata": {
        "id": "FTSaQpjokJSM",
        "outputId": "64598753-0857-4295-ecaa-468588ed29b4"
      },
      "outputs": [
        {
          "data": {
            "text/plain": [
              "2385"
            ]
          },
          "execution_count": 43,
          "metadata": {},
          "output_type": "execute_result"
        }
      ],
      "source": [
        "# Apply count Method on Pandas Series\n"
      ]
    },
    {
      "cell_type": "code",
      "execution_count": null,
      "metadata": {
        "id": "I8vVnB_5kj7C",
        "outputId": "f6dc545d-5acb-4932-a43b-fbe4ebdf577d"
      },
      "outputs": [
        {
          "data": {
            "text/plain": [
              "61243.08594"
            ]
          },
          "execution_count": 44,
          "metadata": {},
          "output_type": "execute_result"
        }
      ],
      "source": [
        "# Obtain the maximum value\n"
      ]
    },
    {
      "cell_type": "code",
      "execution_count": null,
      "metadata": {
        "id": "u3-XBu-vko2y",
        "outputId": "df6c7897-104d-450c-b270-c7d16ece10e5"
      },
      "outputs": [
        {
          "data": {
            "text/plain": [
              "178.1029968"
            ]
          },
          "execution_count": 45,
          "metadata": {},
          "output_type": "execute_result"
        }
      ],
      "source": [
        "# Obtain the minimum value\n"
      ]
    },
    {
      "cell_type": "code",
      "execution_count": null,
      "metadata": {
        "id": "jfaK3BsckvAK",
        "outputId": "3b942c54-dc43-4595-e0d2-e86c243e1df1"
      },
      "outputs": [
        {
          "data": {
            "text/plain": [
              "count     2385.000000\n",
              "mean      6471.857333\n",
              "std       9289.022505\n",
              "min        178.102997\n",
              "25%        454.618988\n",
              "50%       4076.632568\n",
              "75%       8864.766602\n",
              "max      61243.085940\n",
              "Name: BTC-USD Price, dtype: float64"
            ]
          },
          "execution_count": 46,
          "metadata": {},
          "output_type": "execute_result"
        }
      ],
      "source": [
        "# My favourite: Describe! \n",
        "# Describe is used to obtain all statistical information in one place \n"
      ]
    },
    {
      "cell_type": "markdown",
      "metadata": {
        "id": "wfpnZiwxk1cb"
      },
      "source": [
        "**MINI CHALLENGE #9:**\n",
        "- **Obtain the average price of the BTC_price_series using two different methods**"
      ]
    },
    {
      "cell_type": "code",
      "execution_count": null,
      "metadata": {
        "id": "MFL9i8NWlIH5"
      },
      "outputs": [],
      "source": [
        ""
      ]
    },
    {
      "cell_type": "markdown",
      "metadata": {
        "id": "Yi8uUb_eiqxo"
      },
      "source": [
        "# TASK #10. CHECK IF A GIVEN ELEMENT EXISTS IN A PANDAS SERIES"
      ]
    },
    {
      "cell_type": "code",
      "execution_count": null,
      "metadata": {
        "id": "nEQ94a2RiuiR",
        "outputId": "b5021964-a11c-4595-d54e-9fa48974b935"
      },
      "outputs": [
        {
          "data": {
            "text/plain": [
              "0         457.334015\n",
              "1         424.440002\n",
              "2         394.795990\n",
              "3         408.903992\n",
              "4         398.821014\n",
              "            ...     \n",
              "2380    55950.746090\n",
              "2381    57750.199220\n",
              "2382    58917.691410\n",
              "2383    58918.832030\n",
              "2384    59095.808590\n",
              "Name: BTC-USD Price, Length: 2385, dtype: float64"
            ]
          },
          "execution_count": 47,
          "metadata": {},
          "output_type": "execute_result"
        }
      ],
      "source": [
        "# Let's import CSV data as follows:\n"
      ]
    },
    {
      "cell_type": "code",
      "execution_count": null,
      "metadata": {
        "id": "x0T4h0CWi-p7",
        "outputId": "21c3be6d-7ca1-4482-f5a8-0d4841de55ab"
      },
      "outputs": [
        {
          "data": {
            "text/plain": [
              "False"
            ]
          },
          "execution_count": 48,
          "metadata": {},
          "output_type": "execute_result"
        }
      ],
      "source": [
        "# Check if a given number exists in a Pandas Series values\n",
        "# Returns a boolean \"True\" or \"False\"\n"
      ]
    },
    {
      "cell_type": "code",
      "execution_count": null,
      "metadata": {
        "id": "xa7GXwbhi-sh",
        "outputId": "51825e84-bf11-4842-b895-9611030ec897"
      },
      "outputs": [
        {
          "data": {
            "text/plain": [
              "True"
            ]
          },
          "execution_count": 49,
          "metadata": {},
          "output_type": "execute_result"
        }
      ],
      "source": [
        "# Check if a given number exists in a Pandas Series index\n"
      ]
    },
    {
      "cell_type": "code",
      "execution_count": null,
      "metadata": {
        "id": "GyN5iG1ki-vC",
        "outputId": "7fcc2894-107e-43c0-aee2-333de88abac1"
      },
      "outputs": [
        {
          "data": {
            "text/plain": [
              "True"
            ]
          },
          "execution_count": 50,
          "metadata": {},
          "output_type": "execute_result"
        }
      ],
      "source": [
        "# Note that by default 'in' will search in Pandas index and not values\n"
      ]
    },
    {
      "cell_type": "markdown",
      "metadata": {
        "id": "DjNoVv5vb9ij"
      },
      "source": [
        "**MINI CHALLENGE #10:**\n",
        "- **Check if the stock price 399 exists in the BTC_price_series Pandas Series or not**\n",
        "- **Round stock prices to the nearest integer and check again**"
      ]
    },
    {
      "cell_type": "code",
      "execution_count": null,
      "metadata": {
        "id": "3BYcu1gpb_Vo"
      },
      "outputs": [],
      "source": [
        ""
      ]
    },
    {
      "cell_type": "code",
      "execution_count": null,
      "metadata": {
        "id": "lpoBgS53YTe6"
      },
      "outputs": [],
      "source": [
        ""
      ]
    },
    {
      "cell_type": "markdown",
      "metadata": {
        "id": "i1gJS3K7vlxd"
      },
      "source": [
        "# EXCELLENT JOB!"
      ]
    },
    {
      "cell_type": "markdown",
      "metadata": {
        "id": "MF2SdJZ_vn4z"
      },
      "source": [
        "# MINI CHALLENGE SOLUTIONS"
      ]
    },
    {
      "cell_type": "markdown",
      "metadata": {
        "id": "08v_y7IaJrvt"
      },
      "source": [
        "**MINI CHALLENGE #1 SOLUTION:**\n",
        "- **Define a Pandas Series named \"my_series\" that contains your top 3 favourite stocks. Confirm the datatype of \"my_series\"**"
      ]
    },
    {
      "cell_type": "code",
      "execution_count": null,
      "metadata": {
        "id": "syn8_3JiJrvt",
        "outputId": "612ca076-4f67-4bc8-a0fa-97d5afba8a74"
      },
      "outputs": [
        {
          "data": {
            "text/plain": [
              "0    Facebook\n",
              "1       Apple\n",
              "2      Nvidia\n",
              "dtype: object"
            ]
          },
          "execution_count": 51,
          "metadata": {},
          "output_type": "execute_result"
        }
      ],
      "source": [
        "# Let's define a Python list that contains 3 top stocks\n",
        "my_list = ['Facebook','Apple','Nvidia'] \n",
        "my_series = pd.Series(data = my_list) \n",
        "my_series"
      ]
    },
    {
      "cell_type": "code",
      "execution_count": null,
      "metadata": {
        "id": "12MuwJ5eJrvu",
        "outputId": "c1bde68e-c962-4911-979a-a0a83d744c2e"
      },
      "outputs": [
        {
          "data": {
            "text/plain": [
              "pandas.core.series.Series"
            ]
          },
          "execution_count": 52,
          "metadata": {},
          "output_type": "execute_result"
        }
      ],
      "source": [
        "type(my_series)"
      ]
    },
    {
      "cell_type": "markdown",
      "metadata": {
        "id": "1x6d0qzMKg-A"
      },
      "source": [
        "**MINI CHALLENGE #2 SOLUTION:**\n",
        "- **Define a Pandas Series named \"my_series\" that contains your top 3 favourite stocks. Instead of using default numeric indexes (similar to mini challenge #1), use the following indexes \"stock #1\", \"stock #2\", and \"stock #3\"**"
      ]
    },
    {
      "cell_type": "code",
      "execution_count": null,
      "metadata": {
        "id": "ddjSNsHBK-ll"
      },
      "outputs": [],
      "source": [
        "# Let's define a Python list that contains 3 stocks as follows\n",
        "my_list = ['Facebook','Apple','Nvidia'] \n",
        "\n",
        "# Let's define a python list as shown below. This python list will be used for the Series index:\n",
        "my_labels = ['stock #1', 'stock #2', 'stock #3']\n"
      ]
    },
    {
      "cell_type": "code",
      "execution_count": null,
      "metadata": {
        "id": "4iNEgSEtK8kl",
        "outputId": "559bb525-f9e9-455c-a296-02d80fe5f122"
      },
      "outputs": [
        {
          "data": {
            "text/plain": [
              "stock #1    Facebook\n",
              "stock #2       Apple\n",
              "stock #3      Nvidia\n",
              "dtype: object"
            ]
          },
          "execution_count": 54,
          "metadata": {},
          "output_type": "execute_result"
        }
      ],
      "source": [
        "# Let's create a one dimensional Pandas \"series\" \n",
        "# Let's use Pandas Constructor Method to create a series from a Python list\n",
        "# Note that this series is formed of data and associated labels \n",
        "my_series = pd.Series(data = my_list, index = my_labels)\n",
        "my_series"
      ]
    },
    {
      "cell_type": "markdown",
      "metadata": {
        "id": "r6btEnxmMy_G"
      },
      "source": [
        "**MINI CHALLENGE #3 SOLUTION:**\n",
        "- **Create a Pandas Series from a dictionary with 3 of your favourite stocks and their corresponding prices** \n"
      ]
    },
    {
      "cell_type": "code",
      "execution_count": null,
      "metadata": {
        "id": "PzkBjyLHM7Do",
        "outputId": "db26e0b5-bba0-4585-852f-4d423daaf75d"
      },
      "outputs": [
        {
          "name": "stdout",
          "output_type": "stream",
          "text": [
            "{'Facebook': 3000, 'Apple': 400, 'Nvidia': 2200}\n"
          ]
        }
      ],
      "source": [
        "stocks = {'Facebook': 3000, \n",
        "          'Apple'   : 400,\n",
        "          'Nvidia'  : 2200}\n",
        "print(stocks)"
      ]
    },
    {
      "cell_type": "code",
      "execution_count": null,
      "metadata": {
        "id": "QeDCPO9hNAKj",
        "outputId": "1b696e1a-8714-4ced-8855-1337f405f4bc"
      },
      "outputs": [
        {
          "data": {
            "text/plain": [
              "Facebook    3000\n",
              "Apple        400\n",
              "Nvidia      2200\n",
              "dtype: int64"
            ]
          },
          "execution_count": 56,
          "metadata": {},
          "output_type": "execute_result"
        }
      ],
      "source": [
        "# Let's define a Pandas Series Using the dictionary\n",
        "my_series = pd.Series(stocks)\n",
        "my_series"
      ]
    },
    {
      "cell_type": "markdown",
      "metadata": {
        "id": "lB8OYAVJXRYe"
      },
      "source": [
        "**MINI CHALLENGE #4 SOLUTION:** \n",
        "- **What is the size of the Pandas Series? (External Research is Required)**"
      ]
    },
    {
      "cell_type": "code",
      "execution_count": null,
      "metadata": {
        "id": "D5D0wFlmXRYf",
        "outputId": "17e047b3-8ef6-4b74-c2dc-32341c256368"
      },
      "outputs": [
        {
          "data": {
            "text/plain": [
              "5"
            ]
          },
          "execution_count": 57,
          "metadata": {},
          "output_type": "execute_result"
        }
      ],
      "source": [
        "# size is used to return the size of the series\n",
        "crypto_series.size"
      ]
    },
    {
      "cell_type": "markdown",
      "metadata": {
        "id": "5D7QSEf7Y8aa"
      },
      "source": [
        "**MINI CHALLENGE #5 SOLUTION:** \n",
        "- **Show the last 2 rows in the Pandas Series (External Research is Required)** \n",
        "- **How many bytes does this Pandas Series consume in memory? (External Research is Required)**"
      ]
    },
    {
      "cell_type": "code",
      "execution_count": null,
      "metadata": {
        "id": "FsSGV7I3Y_ja",
        "outputId": "da5e7865-861e-4283-8e08-e8b7af37e605"
      },
      "outputs": [
        {
          "data": {
            "text/plain": [
              "3    20\n",
              "4    70\n",
              "dtype: int64"
            ]
          },
          "execution_count": 58,
          "metadata": {},
          "output_type": "execute_result"
        }
      ],
      "source": [
        "crypto_prices.tail(2)"
      ]
    },
    {
      "cell_type": "code",
      "execution_count": null,
      "metadata": {
        "id": "s8g0WhX6Y8aa",
        "outputId": "18c29c49-0b34-40f0-d8d2-5d8ac8927dc4"
      },
      "outputs": [
        {
          "data": {
            "text/plain": [
              "168"
            ]
          },
          "execution_count": 59,
          "metadata": {},
          "output_type": "execute_result"
        }
      ],
      "source": [
        "crypto_prices.memory_usage()"
      ]
    },
    {
      "cell_type": "code",
      "execution_count": null,
      "metadata": {
        "id": "k27pa4L1fv7-"
      },
      "outputs": [],
      "source": [
        ""
      ]
    },
    {
      "cell_type": "markdown",
      "metadata": {
        "id": "Thrv0augRv88"
      },
      "source": [
        "**MINI CHALLENGE #6 SOLUTION:**\n",
        "- **Set Squeeze = False and rerun the cell, what do you notice? Use Type to compare both outputs**"
      ]
    },
    {
      "cell_type": "code",
      "execution_count": null,
      "metadata": {
        "id": "Ebt-VMfccjR6"
      },
      "outputs": [],
      "source": [
        "BTC_price_series = pd.read_csv('crypto.csv', squeeze = False)\n",
        "# Note that when you set Squeeze = False, the data is stored in a DataFrame by default. \n",
        "# DataFrame is simply used to store multi dimensional data as compares to Pandas Series that only holds 1-D dataset \n",
        "# Note that DataFrames has proper formatting when you attempt to view them as shown below \n",
        "# Note that Pandas Series has no formatting\n"
      ]
    },
    {
      "cell_type": "code",
      "execution_count": null,
      "metadata": {
        "id": "WsTIJJlRSFkJ",
        "outputId": "f8a593aa-4fa1-411d-8fd7-4709277937e8"
      },
      "outputs": [
        {
          "data": {
            "text/html": [
              "<div>\n",
              "<style scoped>\n",
              "    .dataframe tbody tr th:only-of-type {\n",
              "        vertical-align: middle;\n",
              "    }\n",
              "\n",
              "    .dataframe tbody tr th {\n",
              "        vertical-align: top;\n",
              "    }\n",
              "\n",
              "    .dataframe thead th {\n",
              "        text-align: right;\n",
              "    }\n",
              "</style>\n",
              "<table border=\"1\" class=\"dataframe\">\n",
              "  <thead>\n",
              "    <tr style=\"text-align: right;\">\n",
              "      <th></th>\n",
              "      <th>BTC-USD Price</th>\n",
              "    </tr>\n",
              "  </thead>\n",
              "  <tbody>\n",
              "    <tr>\n",
              "      <th>0</th>\n",
              "      <td>457.334015</td>\n",
              "    </tr>\n",
              "    <tr>\n",
              "      <th>1</th>\n",
              "      <td>424.440002</td>\n",
              "    </tr>\n",
              "    <tr>\n",
              "      <th>2</th>\n",
              "      <td>394.795990</td>\n",
              "    </tr>\n",
              "    <tr>\n",
              "      <th>3</th>\n",
              "      <td>408.903992</td>\n",
              "    </tr>\n",
              "    <tr>\n",
              "      <th>4</th>\n",
              "      <td>398.821014</td>\n",
              "    </tr>\n",
              "    <tr>\n",
              "      <th>...</th>\n",
              "      <td>...</td>\n",
              "    </tr>\n",
              "    <tr>\n",
              "      <th>2380</th>\n",
              "      <td>55950.746090</td>\n",
              "    </tr>\n",
              "    <tr>\n",
              "      <th>2381</th>\n",
              "      <td>57750.199220</td>\n",
              "    </tr>\n",
              "    <tr>\n",
              "      <th>2382</th>\n",
              "      <td>58917.691410</td>\n",
              "    </tr>\n",
              "    <tr>\n",
              "      <th>2383</th>\n",
              "      <td>58918.832030</td>\n",
              "    </tr>\n",
              "    <tr>\n",
              "      <th>2384</th>\n",
              "      <td>59095.808590</td>\n",
              "    </tr>\n",
              "  </tbody>\n",
              "</table>\n",
              "<p>2385 rows × 1 columns</p>\n",
              "</div>"
            ],
            "text/plain": [
              "      BTC-USD Price\n",
              "0        457.334015\n",
              "1        424.440002\n",
              "2        394.795990\n",
              "3        408.903992\n",
              "4        398.821014\n",
              "...             ...\n",
              "2380   55950.746090\n",
              "2381   57750.199220\n",
              "2382   58917.691410\n",
              "2383   58918.832030\n",
              "2384   59095.808590\n",
              "\n",
              "[2385 rows x 1 columns]"
            ]
          },
          "execution_count": 61,
          "metadata": {},
          "output_type": "execute_result"
        }
      ],
      "source": [
        "BTC_price_series"
      ]
    },
    {
      "cell_type": "code",
      "execution_count": null,
      "metadata": {
        "id": "NJXOLvacSjh9",
        "outputId": "5b19c722-dcd0-43c9-a91a-18a6b3352799"
      },
      "outputs": [
        {
          "data": {
            "text/plain": [
              "pandas.core.frame.DataFrame"
            ]
          },
          "execution_count": 62,
          "metadata": {},
          "output_type": "execute_result"
        }
      ],
      "source": [
        "type(BTC_price_series)"
      ]
    },
    {
      "cell_type": "code",
      "execution_count": null,
      "metadata": {
        "id": "VqShdXDGSjnD",
        "outputId": "33993547-2ce0-4239-ecd1-cc898fde9ebc"
      },
      "outputs": [
        {
          "data": {
            "text/plain": [
              "pandas.core.series.Series"
            ]
          },
          "execution_count": 63,
          "metadata": {},
          "output_type": "execute_result"
        }
      ],
      "source": [
        "BTC_price_series = pd.read_csv('crypto.csv', squeeze = True)\n",
        "type(BTC_price_series)"
      ]
    },
    {
      "cell_type": "markdown",
      "metadata": {
        "id": "c9aEM3KTT619"
      },
      "source": [
        "**MINI CHALLENGE #7 SOLUTION:**\n",
        "- **Given the following Pandas Series, convert all positive values to negative using python built-in functions**\n",
        "- **Obtain only unique values (ie: Remove duplicates) using python built-in functions**\n",
        "- my_series = pd.Series(data = [-10, 100, -30, 50, 100])\n"
      ]
    },
    {
      "cell_type": "code",
      "execution_count": null,
      "metadata": {
        "id": "VP5bBkaOUIpo",
        "outputId": "ff2e9437-0ea2-4390-d8e6-e27888923672"
      },
      "outputs": [
        {
          "data": {
            "text/plain": [
              "0    -10\n",
              "1    100\n",
              "2    -30\n",
              "3     50\n",
              "4    100\n",
              "dtype: int64"
            ]
          },
          "execution_count": 64,
          "metadata": {},
          "output_type": "execute_result"
        }
      ],
      "source": [
        "my_series = pd.Series(data = [-10, 100, -30, 50, 100])\n",
        "my_series"
      ]
    },
    {
      "cell_type": "code",
      "execution_count": null,
      "metadata": {
        "id": "NFKY2ZNRaQ-s",
        "outputId": "507c7043-591c-4491-92d5-7ba558987936"
      },
      "outputs": [
        {
          "data": {
            "text/plain": [
              "0     10\n",
              "1    100\n",
              "2     30\n",
              "3     50\n",
              "4    100\n",
              "dtype: int64"
            ]
          },
          "execution_count": 65,
          "metadata": {},
          "output_type": "execute_result"
        }
      ],
      "source": [
        "abs(my_series)"
      ]
    },
    {
      "cell_type": "code",
      "execution_count": null,
      "metadata": {
        "id": "xqWCYc0n6V-d",
        "outputId": "a9104e8f-d91a-495b-a4ce-5602a51f71ea"
      },
      "outputs": [
        {
          "data": {
            "text/plain": [
              "{-30, -10, 50, 100}"
            ]
          },
          "execution_count": 66,
          "metadata": {},
          "output_type": "execute_result"
        }
      ],
      "source": [
        "set(my_series)"
      ]
    },
    {
      "cell_type": "markdown",
      "metadata": {
        "id": "5hAgN4ITfwPZ"
      },
      "source": [
        "**MINI CHALLENGE #8 SOLUTION:**\n",
        "- **Sort the BTC_price_series values in a decending order instead. Make sure to update values in-memory.**"
      ]
    },
    {
      "cell_type": "code",
      "execution_count": null,
      "metadata": {
        "id": "XbMv5fujfwPa",
        "outputId": "9bdbe66c-ea87-4557-b70b-d3b6455f9e70"
      },
      "outputs": [
        {
          "data": {
            "text/plain": [
              "2365    61243.085940\n",
              "2366    59302.316410\n",
              "2384    59095.808590\n",
              "2383    58918.832030\n",
              "2382    58917.691410\n",
              "            ...     \n",
              "123       210.339004\n",
              "120       209.843994\n",
              "121       208.097000\n",
              "122       199.259995\n",
              "119       178.102997\n",
              "Name: BTC-USD Price, Length: 2385, dtype: float64"
            ]
          },
          "execution_count": 67,
          "metadata": {},
          "output_type": "execute_result"
        }
      ],
      "source": [
        "BTC_price_series.sort_values(ascending = False, inplace = True) \n",
        "BTC_price_series"
      ]
    },
    {
      "cell_type": "markdown",
      "metadata": {
        "id": "BJJRSL5jlDlV"
      },
      "source": [
        "**MINI CHALLENGE #9 SOLUTION:**\n",
        "- **Obtain the average price using two different methods**"
      ]
    },
    {
      "cell_type": "code",
      "execution_count": null,
      "metadata": {
        "id": "PPjFgt5FlDlW",
        "outputId": "ce987438-e906-48ac-e017-965cda8afe07"
      },
      "outputs": [
        {
          "data": {
            "text/plain": [
              "6471.857332852285"
            ]
          },
          "execution_count": 68,
          "metadata": {},
          "output_type": "execute_result"
        }
      ],
      "source": [
        "# Obtain the average - Solution #1\n",
        "BTC_price_series.sum()/BTC_price_series.count()"
      ]
    },
    {
      "cell_type": "code",
      "execution_count": null,
      "metadata": {
        "id": "P10NuBnslDlW",
        "outputId": "51406ee3-8711-4871-9a06-9e7ec9c714d2"
      },
      "outputs": [
        {
          "data": {
            "text/plain": [
              "6471.857332852285"
            ]
          },
          "execution_count": 69,
          "metadata": {},
          "output_type": "execute_result"
        }
      ],
      "source": [
        "# Obtain the average - Solution #s\n",
        "BTC_price_series.mean()"
      ]
    },
    {
      "cell_type": "code",
      "execution_count": null,
      "metadata": {
        "id": "TZkayhzAby14"
      },
      "outputs": [],
      "source": [
        ""
      ]
    },
    {
      "cell_type": "markdown",
      "metadata": {
        "id": "VUaaCo_5a8h0"
      },
      "source": [
        "**MINI CHALLENGE #10 SOLUTION:**\n",
        "- **Check if the stock price 399 exists in the BTC_price_series Pandas Series or not**\n",
        "- **Round stock prices to the nearest integer and check again**"
      ]
    },
    {
      "cell_type": "code",
      "execution_count": null,
      "metadata": {
        "id": "650WOhWVjMGx",
        "outputId": "c4435b7b-d6ea-4366-f4d7-8de39326daeb"
      },
      "outputs": [
        {
          "data": {
            "text/plain": [
              "False"
            ]
          },
          "execution_count": 70,
          "metadata": {},
          "output_type": "execute_result"
        }
      ],
      "source": [
        "399 in BTC_price_series.values"
      ]
    },
    {
      "cell_type": "code",
      "execution_count": null,
      "metadata": {
        "id": "8T7B5PhsbVB0",
        "outputId": "976b1fd7-5006-4f82-fdff-e017b9e3694a"
      },
      "outputs": [
        {
          "data": {
            "text/plain": [
              "2365    61243.0\n",
              "2366    59302.0\n",
              "2384    59096.0\n",
              "2383    58919.0\n",
              "2382    58918.0\n",
              "         ...   \n",
              "123       210.0\n",
              "120       210.0\n",
              "121       208.0\n",
              "122       199.0\n",
              "119       178.0\n",
              "Name: BTC-USD Price, Length: 2385, dtype: float64"
            ]
          },
          "execution_count": 71,
          "metadata": {},
          "output_type": "execute_result"
        }
      ],
      "source": [
        "prices_series = round(BTC_price_series)\n",
        "prices_series"
      ]
    },
    {
      "cell_type": "code",
      "execution_count": null,
      "metadata": {
        "id": "Ads3YyW_bhVh",
        "outputId": "b3227175-d989-4e4c-f1bc-13bdc7e039cf"
      },
      "outputs": [
        {
          "data": {
            "text/plain": [
              "True"
            ]
          },
          "execution_count": 72,
          "metadata": {},
          "output_type": "execute_result"
        }
      ],
      "source": [
        "399 in prices_series.values"
      ]
    },
    {
      "cell_type": "code",
      "execution_count": null,
      "metadata": {
        "id": "iLCsGpu6YTe_"
      },
      "outputs": [],
      "source": [
        ""
      ]
    },
    {
      "cell_type": "code",
      "execution_count": null,
      "metadata": {
        "id": "1ncgJyMEYTe_"
      },
      "outputs": [],
      "source": [
        ""
      ]
    }
  ],
  "metadata": {
    "colab": {
      "collapsed_sections": [],
      "name": "Pandas for Data Analysis - Learning Path Part 1.ipynb",
      "provenance": [],
      "include_colab_link": true
    },
    "kernelspec": {
      "display_name": "Python 3",
      "language": "python",
      "name": "python3"
    },
    "language_info": {
      "codemirror_mode": {
        "name": "ipython",
        "version": 3
      },
      "file_extension": ".py",
      "mimetype": "text/x-python",
      "name": "python",
      "nbconvert_exporter": "python",
      "pygments_lexer": "ipython3",
      "version": "3.7.0"
    }
  },
  "nbformat": 4,
  "nbformat_minor": 0
}