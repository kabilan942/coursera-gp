{
  "cells": [
    {
      "cell_type": "markdown",
      "metadata": {
        "id": "view-in-github",
        "colab_type": "text"
      },
      "source": [
        "<a href=\"https://colab.research.google.com/github/kabilan942/coursera-gp/blob/main/Pandas_for_Data_Analysis_Learning_Path_Part_1.ipynb\" target=\"_parent\"><img src=\"https://colab.research.google.com/assets/colab-badge.svg\" alt=\"Open In Colab\"/></a>"
      ]
    },
    {
      "cell_type": "markdown",
      "metadata": {
        "id": "1ivPDcc7p8lD"
      },
      "source": [
        "# TASK #1. DEFINE A PANDAS SERIES"
      ]
    },
    {
      "cell_type": "code",
      "execution_count": 5,
      "metadata": {
        "id": "4YdCraz8p_XF"
      },
      "outputs": [],
      "source": [
        "# Pandas is a data manipulation and analysis tool that is built on Numpy.\n",
        "# Pandas uses a data structure known as DataFrame (think of it as Microsoft excel in Python). \n",
        "# DataFrames empower programmers to store and manipulate data in a tabular fashion (rows and columns).\n",
        "# Series Vs. DataFrame? Series is considered a single column of a DataFrame.\n",
        "\n",
        "import pandas as pd\n"
      ]
    },
    {
      "cell_type": "code",
      "execution_count": 6,
      "metadata": {
        "colab": {
          "base_uri": "https://localhost:8080/"
        },
        "id": "SA9m0RD3K2TF",
        "outputId": "836aa344-0785-4bb1-dd29-aab40b90c029"
      },
      "outputs": [
        {
          "output_type": "execute_result",
          "data": {
            "text/plain": [
              "['BTC', 'XRP', 'LTC', 'ADA', 'ETH']"
            ]
          },
          "metadata": {},
          "execution_count": 6
        }
      ],
      "source": [
        "# Let's define a Python list that contains 5 crypto currencies \n",
        "crypto_list = ['BTC', 'XRP', 'LTC', 'ADA', 'ETH']\n",
        "crypto_list"
      ]
    },
    {
      "cell_type": "code",
      "execution_count": 7,
      "metadata": {
        "colab": {
          "base_uri": "https://localhost:8080/"
        },
        "id": "G-fooAckNafC",
        "outputId": "c19a7a0e-cbd9-4edb-f584-f6b4a1b2c90b",
        "scrolled": true
      },
      "outputs": [
        {
          "output_type": "execute_result",
          "data": {
            "text/plain": [
              "list"
            ]
          },
          "metadata": {},
          "execution_count": 7
        }
      ],
      "source": [
        "# Let's confirm the Datatyptype\n",
        "type(crypto_list)"
      ]
    },
    {
      "cell_type": "code",
      "execution_count": 9,
      "metadata": {
        "id": "hle4zw51K6-P"
      },
      "outputs": [],
      "source": [
        "# Let's create a one dimensional Pandas \"series\" \n",
        "# Let's use Pandas Constructor Method to create a series from a Python list\n",
        "# Note that series is formed of data and associated index (numeric index has been automatically generated) \n",
        "# Check Pandas Documentation for More information: https://pandas.pydata.org/pandas-docs/stable/reference/api/pandas.Series.html#pandas.Series\n",
        "# Object datatype is used for text data (String)\n",
        "\n",
        "crypto_series = pd.Series(data=crypto_list)\n"
      ]
    },
    {
      "cell_type": "code",
      "execution_count": 10,
      "metadata": {
        "colab": {
          "base_uri": "https://localhost:8080/"
        },
        "id": "-HNCtPcoNUyf",
        "outputId": "f49fbf19-ef69-4b15-f6e6-39cf9797e4f1"
      },
      "outputs": [
        {
          "output_type": "execute_result",
          "data": {
            "text/plain": [
              "pandas.core.series.Series"
            ]
          },
          "metadata": {},
          "execution_count": 10
        }
      ],
      "source": [
        "# Let's confirm the Pandas Series Datatype\n",
        "type(crypto_series)"
      ]
    },
    {
      "cell_type": "code",
      "execution_count": 11,
      "metadata": {
        "colab": {
          "base_uri": "https://localhost:8080/"
        },
        "id": "LB2J-qw5LdQI",
        "outputId": "96de9bc4-bb98-4832-c332-0bc8a705407a"
      },
      "outputs": [
        {
          "output_type": "execute_result",
          "data": {
            "text/plain": [
              "0    1000\n",
              "1    3000\n",
              "2     500\n",
              "dtype: int64"
            ]
          },
          "metadata": {},
          "execution_count": 11
        }
      ],
      "source": [
        "# Let's define another Pandas Series that contains numeric values (crypto prices) instead of text data\n",
        "# Note that we have int64 datatype which means it's integer stored in 64 bits in memory\n",
        "\n",
        "crypto_num = pd.Series(data = [1000, 3000, 500])\n",
        "crypto_num"
      ]
    },
    {
      "cell_type": "markdown",
      "metadata": {
        "id": "8C0UN46KIntM"
      },
      "source": [
        "**MINI CHALLENGE #1:**\n",
        "- **Define a Pandas Series named \"my_series\" that contains your top 3 favourite stocks. Confirm the datatype of \"my_series\"**"
      ]
    },
    {
      "cell_type": "code",
      "execution_count": 12,
      "metadata": {
        "id": "l2aMAKvpJyWH",
        "colab": {
          "base_uri": "https://localhost:8080/"
        },
        "outputId": "94c0b751-813d-4ab3-b5f7-4196f0ed63cc"
      },
      "outputs": [
        {
          "output_type": "execute_result",
          "data": {
            "text/plain": [
              "0    Microsoft\n",
              "1        Apple\n",
              "2      Samsung\n",
              "dtype: object"
            ]
          },
          "metadata": {},
          "execution_count": 12
        }
      ],
      "source": [
        "my_list = ['Microsoft', 'Apple', 'Samsung']\n",
        "my_series = pd.Series(data = my_list)\n",
        "my_series"
      ]
    },
    {
      "cell_type": "markdown",
      "metadata": {
        "id": "XN92TgiQOD7I"
      },
      "source": [
        "# TASK #2. DEFINE A PANDAS SERIES WITH CUSTOM INDEX"
      ]
    },
    {
      "cell_type": "code",
      "execution_count": 13,
      "metadata": {
        "id": "K4Y9jVx1OaN4"
      },
      "outputs": [],
      "source": [
        "# Let's define a Python list that contains 5 Crypto currencies\n",
        "crp_list = ['BTC', 'XRP', 'LTC', 'ADA', 'ETH']"
      ]
    },
    {
      "cell_type": "code",
      "execution_count": 15,
      "metadata": {
        "id": "ZSxdgs_xJvxx"
      },
      "outputs": [],
      "source": [
        "# Let's define a python list as shown below. This python list will be used for the Series index:\n",
        "ind_list = ['crypto#1', 'crypto#2', 'crypto#3', 'crypto#4', 'crypto#5']"
      ]
    },
    {
      "cell_type": "code",
      "execution_count": 18,
      "metadata": {
        "id": "U4Fq06XwqX9v"
      },
      "outputs": [],
      "source": [
        "# Let's create a one dimensional Pandas \"series\" \n",
        "# Let's use Pandas Constructor Method to create a series from a Python list\n",
        "# Note that this series is formed of data and associated labels \n",
        "\n",
        "crp_series = pd.Series(data=crp_list, index=ind_list)\n"
      ]
    },
    {
      "cell_type": "code",
      "execution_count": 19,
      "metadata": {
        "colab": {
          "base_uri": "https://localhost:8080/"
        },
        "id": "YhPzprisqX_8",
        "outputId": "38d2bab1-5460-4d93-8345-2c52f5f22a51"
      },
      "outputs": [
        {
          "output_type": "execute_result",
          "data": {
            "text/plain": [
              "crypto#1    BTC\n",
              "crypto#2    XRP\n",
              "crypto#3    LTC\n",
              "crypto#4    ADA\n",
              "crypto#5    ETH\n",
              "dtype: object"
            ]
          },
          "metadata": {},
          "execution_count": 19
        }
      ],
      "source": [
        "# Let's view the series\n",
        "crp_series"
      ]
    },
    {
      "cell_type": "code",
      "execution_count": 20,
      "metadata": {
        "colab": {
          "base_uri": "https://localhost:8080/"
        },
        "id": "4LPwMO8fsvi1",
        "outputId": "d9b46910-9ced-4a40-863a-d6e8b5c9dfa7"
      },
      "outputs": [
        {
          "output_type": "execute_result",
          "data": {
            "text/plain": [
              "pandas.core.series.Series"
            ]
          },
          "metadata": {},
          "execution_count": 20
        }
      ],
      "source": [
        "# Let's obtain the datatype\n",
        "type(crp_series)"
      ]
    },
    {
      "cell_type": "markdown",
      "metadata": {
        "id": "13icipAKL4W5"
      },
      "source": [
        "**MINI CHALLENGE #2:**\n",
        "- **Define a Pandas Series named \"my_series\" that contains your top 3 favourite stocks. Instead of using default numeric indexes (similar to mini challenge #1), use the following indexes \"stock #1\", \"stock #2\", and \"stock #3\"**"
      ]
    },
    {
      "cell_type": "code",
      "execution_count": 21,
      "metadata": {
        "id": "NZBRmbbuL8OC",
        "colab": {
          "base_uri": "https://localhost:8080/"
        },
        "outputId": "b2b6c9ab-4a61-4e68-d79f-90ab53ccc3c2"
      },
      "outputs": [
        {
          "output_type": "execute_result",
          "data": {
            "text/plain": [
              "stock #1    Microsoft\n",
              "stock #2        Apple\n",
              "stock #3      Samsung\n",
              "dtype: object"
            ]
          },
          "metadata": {},
          "execution_count": 21
        }
      ],
      "source": [
        "my_list = ['Microsoft', 'Apple', 'Samsung']\n",
        "my_index = ['stock #1','stock #2','stock #3']\n",
        "my_series = pd.Series(data = my_list, index=my_index)\n",
        "my_series"
      ]
    },
    {
      "cell_type": "markdown",
      "metadata": {
        "id": "96EH6h9SQYW1"
      },
      "source": [
        "# TASK #3. DEFINE A PANDAS SERIES FROM A DICTIONARY"
      ]
    },
    {
      "cell_type": "code",
      "execution_count": 22,
      "metadata": {
        "id": "fk9R_fZlML_y"
      },
      "outputs": [],
      "source": [
        "# A Dictionary consists of a collection of key-value pairs. Each key-value pair maps the key to its corresponding value.\n",
        "# Keys are unique within a dictionary while values may not be. \n",
        "# List elements are accessed by their position in the list, via indexing while Dictionary elements are accessed via keys\n",
        "# Define a dictionary named \"my_dict\" using key-value pairs\n",
        "my_dict = {'Employee ID': 1,\n",
        " 'Employee Name': 'Steve',\n",
        " 'Salary [$]': 2000,\n",
        " 'Years with company': 10}\n"
      ]
    },
    {
      "cell_type": "code",
      "execution_count": 23,
      "metadata": {
        "colab": {
          "base_uri": "https://localhost:8080/"
        },
        "id": "BlHhf-YPQdrB",
        "outputId": "bf6c8a84-50f2-417c-9b05-82817bac7039"
      },
      "outputs": [
        {
          "output_type": "execute_result",
          "data": {
            "text/plain": [
              "{'Employee ID': 1,\n",
              " 'Employee Name': 'Steve',\n",
              " 'Salary [$]': 2000,\n",
              " 'Years with company': 10}"
            ]
          },
          "metadata": {},
          "execution_count": 23
        }
      ],
      "source": [
        "# Show the dictionary\n",
        "my_dict"
      ]
    },
    {
      "cell_type": "code",
      "execution_count": 24,
      "metadata": {
        "colab": {
          "base_uri": "https://localhost:8080/"
        },
        "id": "0b4KQo3JMcI0",
        "outputId": "9ba0034e-d521-45e4-c8e0-196667008c49"
      },
      "outputs": [
        {
          "output_type": "execute_result",
          "data": {
            "text/plain": [
              "dict"
            ]
          },
          "metadata": {},
          "execution_count": 24
        }
      ],
      "source": [
        "# Confirm the dictionary datatype \n",
        "type(my_dict)"
      ]
    },
    {
      "cell_type": "code",
      "execution_count": 26,
      "metadata": {
        "colab": {
          "base_uri": "https://localhost:8080/"
        },
        "id": "LeH27Q4aQeXe",
        "outputId": "9bc4b073-b280-4966-c67e-a8b5c0f5185b"
      },
      "outputs": [
        {
          "output_type": "execute_result",
          "data": {
            "text/plain": [
              "Employee ID               1\n",
              "Employee Name         Steve\n",
              "Salary [$]             2000\n",
              "Years with company       10\n",
              "dtype: object"
            ]
          },
          "metadata": {},
          "execution_count": 26
        }
      ],
      "source": [
        "# Let's define a Pandas Series Using the dictionary\n",
        "dict_series = pd.Series(my_dict)\n",
        "dict_series"
      ]
    },
    {
      "cell_type": "markdown",
      "metadata": {
        "id": "_Tk4kxlLNI85"
      },
      "source": [
        "**MINI CHALLENGE #3:**\n",
        "- **Create a Pandas Series from a dictionary with 3 of your favourite stocks and their corresponding prices** "
      ]
    },
    {
      "cell_type": "code",
      "execution_count": 27,
      "metadata": {
        "id": "nlG7J4oKNLuY",
        "colab": {
          "base_uri": "https://localhost:8080/"
        },
        "outputId": "7faebeb0-8ad4-4b40-cd46-f178cbc75565"
      },
      "outputs": [
        {
          "output_type": "execute_result",
          "data": {
            "text/plain": [
              "Microsoft    1000\n",
              "Apple        2000\n",
              "Samsung       500\n",
              "dtype: int64"
            ]
          },
          "metadata": {},
          "execution_count": 27
        }
      ],
      "source": [
        "stock_dict = {'Microsoft':1000, 'Apple':2000, 'Samsung':500}\n",
        "\n",
        "stock_series = pd.Series(stock_dict)\n",
        "stock_series"
      ]
    },
    {
      "cell_type": "markdown",
      "metadata": {
        "id": "VGlb7t7WRIR3"
      },
      "source": [
        "# TASK #4. PANDAS ATTRIBUTES"
      ]
    },
    {
      "cell_type": "code",
      "execution_count": 29,
      "metadata": {
        "colab": {
          "base_uri": "https://localhost:8080/"
        },
        "id": "p4FauWQlRRD8",
        "outputId": "cb902402-4f8e-4f6f-b03a-860b87c4d8c8"
      },
      "outputs": [
        {
          "output_type": "execute_result",
          "data": {
            "text/plain": [
              "0    BTC\n",
              "1    XRP\n",
              "2    LTC\n",
              "3    ADA\n",
              "4    ETH\n",
              "dtype: object"
            ]
          },
          "metadata": {},
          "execution_count": 29
        }
      ],
      "source": [
        "# Attributes/Properties: do not use parantheses \"()\" and are used to get Pandas Series Properties. Ex: my_series.values, my_series.shape\n",
        "# Methods: use parantheses \"()\" and might include arguments and they actually alter/change the Pandas Series. Ex: my_series.tail(), my_series.head(), my_series.drop_duplicates()\n",
        "# Indexers: use square brackets \"[]\" and are used to access specific elements in a Pandas Series or DataFrame. Ex: my_series.loc[], my_series.iloc[]\n",
        "\n",
        "# Let's redefine a Pandas Series containing our favourite 5 cryptos \n",
        "\n",
        "crp_list_4 = ['BTC', 'XRP', 'LTC', 'ADA', 'ETH']\n",
        "crp_series_4 = pd.Series(data=crp_list_4)\n",
        "crp_series_4 "
      ]
    },
    {
      "cell_type": "code",
      "execution_count": 30,
      "metadata": {
        "colab": {
          "base_uri": "https://localhost:8080/"
        },
        "id": "KBgZI_vHQeeA",
        "outputId": "57facb44-b396-4716-94ab-bbc079d4efef"
      },
      "outputs": [
        {
          "output_type": "execute_result",
          "data": {
            "text/plain": [
              "array(['BTC', 'XRP', 'LTC', 'ADA', 'ETH'], dtype=object)"
            ]
          },
          "metadata": {},
          "execution_count": 30
        }
      ],
      "source": [
        "# \".Values\" attribute is used to return Series as ndarray depending on its dtype\n",
        "# Check this for more information: https://pandas.pydata.org/docs/reference/api/pandas.Series.values.html#pandas.Series.values\n",
        "crp_series_4.values"
      ]
    },
    {
      "cell_type": "code",
      "execution_count": 31,
      "metadata": {
        "colab": {
          "base_uri": "https://localhost:8080/"
        },
        "id": "YDunyBEQRtoJ",
        "outputId": "50d05e35-289e-4476-a5d8-f85268a61f83"
      },
      "outputs": [
        {
          "output_type": "execute_result",
          "data": {
            "text/plain": [
              "RangeIndex(start=0, stop=5, step=1)"
            ]
          },
          "metadata": {},
          "execution_count": 31
        }
      ],
      "source": [
        "# index is used to return the index (axis labels) of the Series\n",
        "crp_series_4.index"
      ]
    },
    {
      "cell_type": "code",
      "execution_count": 32,
      "metadata": {
        "colab": {
          "base_uri": "https://localhost:8080/"
        },
        "id": "7bgfGfQaSrqw",
        "outputId": "e9107562-5b49-4c8b-faef-9391518ecc80"
      },
      "outputs": [
        {
          "output_type": "execute_result",
          "data": {
            "text/plain": [
              "dtype('O')"
            ]
          },
          "metadata": {},
          "execution_count": 32
        }
      ],
      "source": [
        "# dtype is used to return the datatype of the Series ('O' stands for 'object' datatype)\n",
        "crp_series_4.dtype"
      ]
    },
    {
      "cell_type": "code",
      "execution_count": 34,
      "metadata": {
        "colab": {
          "base_uri": "https://localhost:8080/"
        },
        "id": "XeQtP9v2dxzu",
        "outputId": "0c4b309c-5819-43f5-8792-7931127d4417"
      },
      "outputs": [
        {
          "output_type": "execute_result",
          "data": {
            "text/plain": [
              "True"
            ]
          },
          "metadata": {},
          "execution_count": 34
        }
      ],
      "source": [
        "# Check if all elements are unique or not\n",
        "crp_series_4.is_unique"
      ]
    },
    {
      "cell_type": "code",
      "execution_count": 35,
      "metadata": {
        "colab": {
          "base_uri": "https://localhost:8080/"
        },
        "id": "8VWnKVh0d7Kw",
        "outputId": "12f7964f-9b29-423e-aeaf-a0fa6f8c1592"
      },
      "outputs": [
        {
          "output_type": "execute_result",
          "data": {
            "text/plain": [
              "(5,)"
            ]
          },
          "metadata": {},
          "execution_count": 35
        }
      ],
      "source": [
        "# Check the shape of the Series\n",
        "# note that a Series is one dimensional\n",
        "crp_series_4.shape"
      ]
    },
    {
      "cell_type": "markdown",
      "metadata": {
        "id": "gPL7KbA3XGr1"
      },
      "source": [
        "**MINI CHALLENGE #4:** \n",
        "- **What is the size of the Pandas Series? (External Research for the proper attribute is Required)**"
      ]
    },
    {
      "cell_type": "code",
      "execution_count": 36,
      "metadata": {
        "id": "SyfddtryXbmX",
        "colab": {
          "base_uri": "https://localhost:8080/"
        },
        "outputId": "bde76839-6c2b-494a-a839-2c431bc1c5b0"
      },
      "outputs": [
        {
          "output_type": "execute_result",
          "data": {
            "text/plain": [
              "5"
            ]
          },
          "metadata": {},
          "execution_count": 36
        }
      ],
      "source": [
        "crp_series_4.size"
      ]
    },
    {
      "cell_type": "markdown",
      "metadata": {
        "id": "Qc7sVau-UtYt"
      },
      "source": [
        "# TASK #5. PANDAS METHODS"
      ]
    },
    {
      "cell_type": "code",
      "execution_count": 37,
      "metadata": {
        "colab": {
          "base_uri": "https://localhost:8080/"
        },
        "id": "5gwWM4VvUxI2",
        "outputId": "c6906ae1-bc6d-424e-fbfe-0b67cea08f15"
      },
      "outputs": [
        {
          "output_type": "execute_result",
          "data": {
            "text/plain": [
              "0     400\n",
              "1     500\n",
              "2    1500\n",
              "3      20\n",
              "4      70\n",
              "dtype: int64"
            ]
          },
          "metadata": {},
          "execution_count": 37
        }
      ],
      "source": [
        "# Methods have parentheses and they actually alter/change the Pandas Series\n",
        "# Methods: use parantheses \"()\" and might include arguments. Ex: my_series.tail(), my_series.head(), my_series.drop_duplicates()\n",
        "\n",
        "# Let's define another Pandas Series that contains numeric values (crypto prices) instead of text data\n",
        "# Note that we have int64 datatype which means it contains integer values stored in 64 bits in memory\n",
        "\n",
        "crypto_prices = pd.Series([400, 500, 1500, 20, 70])\n",
        "crypto_prices"
      ]
    },
    {
      "cell_type": "code",
      "execution_count": 38,
      "metadata": {
        "colab": {
          "base_uri": "https://localhost:8080/"
        },
        "id": "ImwFgVASUxLa",
        "outputId": "0d77d0b5-c4c0-4f5e-bec8-2107ec518bf6"
      },
      "outputs": [
        {
          "output_type": "execute_result",
          "data": {
            "text/plain": [
              "2490"
            ]
          },
          "metadata": {},
          "execution_count": 38
        }
      ],
      "source": [
        "# Let's obtain the sum of all elements in the Pandas Series\n",
        "crypto_prices.sum()"
      ]
    },
    {
      "cell_type": "code",
      "execution_count": 39,
      "metadata": {
        "colab": {
          "base_uri": "https://localhost:8080/"
        },
        "id": "OLa69YwxUxOa",
        "outputId": "331af518-3659-4edb-9386-4503465b48ab"
      },
      "outputs": [
        {
          "output_type": "execute_result",
          "data": {
            "text/plain": [
              "420000000000"
            ]
          },
          "metadata": {},
          "execution_count": 39
        }
      ],
      "source": [
        "# Let's obtain the multiplication of all elements in the Pandas Series\n",
        "crypto_prices.product()"
      ]
    },
    {
      "cell_type": "code",
      "execution_count": 41,
      "metadata": {
        "colab": {
          "base_uri": "https://localhost:8080/"
        },
        "id": "xVMJtbtkUxQ-",
        "outputId": "d2688d15-c904-4c5d-8af4-e5bc7461bb6b"
      },
      "outputs": [
        {
          "output_type": "execute_result",
          "data": {
            "text/plain": [
              "498.0"
            ]
          },
          "metadata": {},
          "execution_count": 41
        }
      ],
      "source": [
        "# Let's obtain the average\n",
        "crypto_prices.mean()"
      ]
    },
    {
      "cell_type": "code",
      "execution_count": 42,
      "metadata": {
        "colab": {
          "base_uri": "https://localhost:8080/"
        },
        "id": "FgqSFr98YTUw",
        "outputId": "4b36de05-9834-4cc9-da8e-8f90377d36a0"
      },
      "outputs": [
        {
          "output_type": "execute_result",
          "data": {
            "text/plain": [
              "0     400\n",
              "1     500\n",
              "2    1500\n",
              "dtype: int64"
            ]
          },
          "metadata": {},
          "execution_count": 42
        }
      ],
      "source": [
        "# Let's show the first couple of elements in the Pandas Series\n",
        "crypto_prices.head(3)"
      ]
    },
    {
      "cell_type": "code",
      "execution_count": 43,
      "metadata": {
        "colab": {
          "base_uri": "https://localhost:8080/"
        },
        "id": "GFoxw41LZrBs",
        "outputId": "85b60c67-5d5b-4725-bce2-1905c9405d24"
      },
      "outputs": [
        {
          "output_type": "execute_result",
          "data": {
            "text/plain": [
              "0     400\n",
              "1     500\n",
              "2    1500\n",
              "dtype: int64"
            ]
          },
          "metadata": {},
          "execution_count": 43
        }
      ],
      "source": [
        "# Note that head creates a new dataframe \n",
        "crypto_prices_new = crypto_prices.head(3)\n",
        "crypto_prices_new"
      ]
    },
    {
      "cell_type": "markdown",
      "metadata": {
        "id": "DHknLT4PTrjn"
      },
      "source": [
        "**MINI CHALLENGE #5:** \n",
        "- **Show the last 2 rows in the Pandas Series (External Research is Required)** \n",
        "- **How many bytes does this Pandas Series consume in memory? (External Research is Required)**"
      ]
    },
    {
      "cell_type": "code",
      "execution_count": 44,
      "metadata": {
        "colab": {
          "base_uri": "https://localhost:8080/"
        },
        "id": "UUiOynSPSshX",
        "outputId": "d8e1a705-d2e3-480a-b325-7cf51f64d46d"
      },
      "outputs": [
        {
          "output_type": "execute_result",
          "data": {
            "text/plain": [
              "3    20\n",
              "4    70\n",
              "dtype: int64"
            ]
          },
          "metadata": {},
          "execution_count": 44
        }
      ],
      "source": [
        "crypto_prices.tail(2)"
      ]
    },
    {
      "cell_type": "code",
      "source": [
        "crypto_prices.memory_usage()"
      ],
      "metadata": {
        "colab": {
          "base_uri": "https://localhost:8080/"
        },
        "id": "9l8cixDTeKBL",
        "outputId": "0dcfafeb-2b14-42d6-8c81-172c2f12de56"
      },
      "execution_count": 45,
      "outputs": [
        {
          "output_type": "execute_result",
          "data": {
            "text/plain": [
              "168"
            ]
          },
          "metadata": {},
          "execution_count": 45
        }
      ]
    },
    {
      "cell_type": "markdown",
      "metadata": {
        "id": "vzu3jPDbasz5"
      },
      "source": [
        "# TASK #6. IMPORT CSV DATA (1-D) USING PANDAS"
      ]
    },
    {
      "cell_type": "code",
      "execution_count": null,
      "metadata": {
        "id": "zLiVpmH2asz6"
      },
      "outputs": [],
      "source": [
        "# Pandas read_csv is used to read a csv file and store data in a DataFrame by default (DataFrames will be covered shortly!)\n",
        "# Use Squeeze to convert it into a Pandas Series (One-dimensional)\n",
        "# Notice that no foramtting exists when a Series is plotted\n"
      ]
    },
    {
      "cell_type": "code",
      "execution_count": 48,
      "metadata": {
        "id": "Py1fYuPFasz6",
        "colab": {
          "base_uri": "https://localhost:8080/"
        },
        "outputId": "1a165fd3-af45-4920-f1b4-0cc85cc7bdc5"
      },
      "outputs": [
        {
          "output_type": "execute_result",
          "data": {
            "text/plain": [
              "0         457.334015\n",
              "1         424.440002\n",
              "2         394.795990\n",
              "3         408.903992\n",
              "4         398.821014\n",
              "            ...     \n",
              "2380    55950.746090\n",
              "2381    57750.199220\n",
              "2382    58917.691410\n",
              "2383    58918.832030\n",
              "2384    59095.808590\n",
              "Name: BTC-USD Price, Length: 2385, dtype: float64"
            ]
          },
          "metadata": {},
          "execution_count": 48
        }
      ],
      "source": [
        "crypto = pd.read_csv('crypto.csv', squeeze=True)  # squeeze=True for pandas series creation instead of df\n",
        "crypto"
      ]
    },
    {
      "cell_type": "markdown",
      "metadata": {
        "id": "CykEEAr9S--X"
      },
      "source": [
        "**MINI CHALLENGE #6:**\n",
        "- **Set Squeeze = False and rerun the cell, what do you notice? Use Type to compare both outputs**"
      ]
    },
    {
      "cell_type": "code",
      "execution_count": 49,
      "metadata": {
        "id": "DVEio_JnTArn",
        "colab": {
          "base_uri": "https://localhost:8080/",
          "height": 424
        },
        "outputId": "05a070f2-d975-4a73-9643-4944a91570b0"
      },
      "outputs": [
        {
          "output_type": "execute_result",
          "data": {
            "text/plain": [
              "      BTC-USD Price\n",
              "0        457.334015\n",
              "1        424.440002\n",
              "2        394.795990\n",
              "3        408.903992\n",
              "4        398.821014\n",
              "...             ...\n",
              "2380   55950.746090\n",
              "2381   57750.199220\n",
              "2382   58917.691410\n",
              "2383   58918.832030\n",
              "2384   59095.808590\n",
              "\n",
              "[2385 rows x 1 columns]"
            ],
            "text/html": [
              "\n",
              "  <div id=\"df-5062eaf6-d530-4bbc-b1f2-a6fa37815bca\">\n",
              "    <div class=\"colab-df-container\">\n",
              "      <div>\n",
              "<style scoped>\n",
              "    .dataframe tbody tr th:only-of-type {\n",
              "        vertical-align: middle;\n",
              "    }\n",
              "\n",
              "    .dataframe tbody tr th {\n",
              "        vertical-align: top;\n",
              "    }\n",
              "\n",
              "    .dataframe thead th {\n",
              "        text-align: right;\n",
              "    }\n",
              "</style>\n",
              "<table border=\"1\" class=\"dataframe\">\n",
              "  <thead>\n",
              "    <tr style=\"text-align: right;\">\n",
              "      <th></th>\n",
              "      <th>BTC-USD Price</th>\n",
              "    </tr>\n",
              "  </thead>\n",
              "  <tbody>\n",
              "    <tr>\n",
              "      <th>0</th>\n",
              "      <td>457.334015</td>\n",
              "    </tr>\n",
              "    <tr>\n",
              "      <th>1</th>\n",
              "      <td>424.440002</td>\n",
              "    </tr>\n",
              "    <tr>\n",
              "      <th>2</th>\n",
              "      <td>394.795990</td>\n",
              "    </tr>\n",
              "    <tr>\n",
              "      <th>3</th>\n",
              "      <td>408.903992</td>\n",
              "    </tr>\n",
              "    <tr>\n",
              "      <th>4</th>\n",
              "      <td>398.821014</td>\n",
              "    </tr>\n",
              "    <tr>\n",
              "      <th>...</th>\n",
              "      <td>...</td>\n",
              "    </tr>\n",
              "    <tr>\n",
              "      <th>2380</th>\n",
              "      <td>55950.746090</td>\n",
              "    </tr>\n",
              "    <tr>\n",
              "      <th>2381</th>\n",
              "      <td>57750.199220</td>\n",
              "    </tr>\n",
              "    <tr>\n",
              "      <th>2382</th>\n",
              "      <td>58917.691410</td>\n",
              "    </tr>\n",
              "    <tr>\n",
              "      <th>2383</th>\n",
              "      <td>58918.832030</td>\n",
              "    </tr>\n",
              "    <tr>\n",
              "      <th>2384</th>\n",
              "      <td>59095.808590</td>\n",
              "    </tr>\n",
              "  </tbody>\n",
              "</table>\n",
              "<p>2385 rows × 1 columns</p>\n",
              "</div>\n",
              "      <button class=\"colab-df-convert\" onclick=\"convertToInteractive('df-5062eaf6-d530-4bbc-b1f2-a6fa37815bca')\"\n",
              "              title=\"Convert this dataframe to an interactive table.\"\n",
              "              style=\"display:none;\">\n",
              "        \n",
              "  <svg xmlns=\"http://www.w3.org/2000/svg\" height=\"24px\"viewBox=\"0 0 24 24\"\n",
              "       width=\"24px\">\n",
              "    <path d=\"M0 0h24v24H0V0z\" fill=\"none\"/>\n",
              "    <path d=\"M18.56 5.44l.94 2.06.94-2.06 2.06-.94-2.06-.94-.94-2.06-.94 2.06-2.06.94zm-11 1L8.5 8.5l.94-2.06 2.06-.94-2.06-.94L8.5 2.5l-.94 2.06-2.06.94zm10 10l.94 2.06.94-2.06 2.06-.94-2.06-.94-.94-2.06-.94 2.06-2.06.94z\"/><path d=\"M17.41 7.96l-1.37-1.37c-.4-.4-.92-.59-1.43-.59-.52 0-1.04.2-1.43.59L10.3 9.45l-7.72 7.72c-.78.78-.78 2.05 0 2.83L4 21.41c.39.39.9.59 1.41.59.51 0 1.02-.2 1.41-.59l7.78-7.78 2.81-2.81c.8-.78.8-2.07 0-2.86zM5.41 20L4 18.59l7.72-7.72 1.47 1.35L5.41 20z\"/>\n",
              "  </svg>\n",
              "      </button>\n",
              "      \n",
              "  <style>\n",
              "    .colab-df-container {\n",
              "      display:flex;\n",
              "      flex-wrap:wrap;\n",
              "      gap: 12px;\n",
              "    }\n",
              "\n",
              "    .colab-df-convert {\n",
              "      background-color: #E8F0FE;\n",
              "      border: none;\n",
              "      border-radius: 50%;\n",
              "      cursor: pointer;\n",
              "      display: none;\n",
              "      fill: #1967D2;\n",
              "      height: 32px;\n",
              "      padding: 0 0 0 0;\n",
              "      width: 32px;\n",
              "    }\n",
              "\n",
              "    .colab-df-convert:hover {\n",
              "      background-color: #E2EBFA;\n",
              "      box-shadow: 0px 1px 2px rgba(60, 64, 67, 0.3), 0px 1px 3px 1px rgba(60, 64, 67, 0.15);\n",
              "      fill: #174EA6;\n",
              "    }\n",
              "\n",
              "    [theme=dark] .colab-df-convert {\n",
              "      background-color: #3B4455;\n",
              "      fill: #D2E3FC;\n",
              "    }\n",
              "\n",
              "    [theme=dark] .colab-df-convert:hover {\n",
              "      background-color: #434B5C;\n",
              "      box-shadow: 0px 1px 3px 1px rgba(0, 0, 0, 0.15);\n",
              "      filter: drop-shadow(0px 1px 2px rgba(0, 0, 0, 0.3));\n",
              "      fill: #FFFFFF;\n",
              "    }\n",
              "  </style>\n",
              "\n",
              "      <script>\n",
              "        const buttonEl =\n",
              "          document.querySelector('#df-5062eaf6-d530-4bbc-b1f2-a6fa37815bca button.colab-df-convert');\n",
              "        buttonEl.style.display =\n",
              "          google.colab.kernel.accessAllowed ? 'block' : 'none';\n",
              "\n",
              "        async function convertToInteractive(key) {\n",
              "          const element = document.querySelector('#df-5062eaf6-d530-4bbc-b1f2-a6fa37815bca');\n",
              "          const dataTable =\n",
              "            await google.colab.kernel.invokeFunction('convertToInteractive',\n",
              "                                                     [key], {});\n",
              "          if (!dataTable) return;\n",
              "\n",
              "          const docLinkHtml = 'Like what you see? Visit the ' +\n",
              "            '<a target=\"_blank\" href=https://colab.research.google.com/notebooks/data_table.ipynb>data table notebook</a>'\n",
              "            + ' to learn more about interactive tables.';\n",
              "          element.innerHTML = '';\n",
              "          dataTable['output_type'] = 'display_data';\n",
              "          await google.colab.output.renderOutput(dataTable, element);\n",
              "          const docLink = document.createElement('div');\n",
              "          docLink.innerHTML = docLinkHtml;\n",
              "          element.appendChild(docLink);\n",
              "        }\n",
              "      </script>\n",
              "    </div>\n",
              "  </div>\n",
              "  "
            ]
          },
          "metadata": {},
          "execution_count": 49
        }
      ],
      "source": [
        "crypto_df = pd.read_csv('crypto.csv', squeeze=False)   # squeeze=False by default\n",
        "crypto_df"
      ]
    },
    {
      "cell_type": "markdown",
      "metadata": {
        "id": "8HBGOWjKaK_i"
      },
      "source": [
        "# TASK #7. PANDAS BUILT-IN FUNCTIONS"
      ]
    },
    {
      "cell_type": "code",
      "execution_count": 50,
      "metadata": {
        "id": "-Q-1iWEqaP6y"
      },
      "outputs": [],
      "source": [
        "# Pandas works great with pre-existing python functions \n",
        "# You don't have to play with pandas methods and directly leverage Python functions\n",
        "# Check Python built-in functions here: https://docs.python.org/3/library/functions.html\n",
        "crypto = pd.read_csv('crypto.csv', squeeze=True)"
      ]
    },
    {
      "cell_type": "code",
      "execution_count": 51,
      "metadata": {
        "id": "g759k2IPdVH-",
        "colab": {
          "base_uri": "https://localhost:8080/"
        },
        "outputId": "89840d33-21f2-402d-8917-eb9cac0c34cd"
      },
      "outputs": [
        {
          "output_type": "execute_result",
          "data": {
            "text/plain": [
              "pandas.core.series.Series"
            ]
          },
          "metadata": {},
          "execution_count": 51
        }
      ],
      "source": [
        "# Obtain the Data Type of the Pandas Series\n",
        "type(crypto)"
      ]
    },
    {
      "cell_type": "code",
      "execution_count": 52,
      "metadata": {
        "id": "NbKysqrSaQ32",
        "colab": {
          "base_uri": "https://localhost:8080/"
        },
        "outputId": "bbd8381b-7ae3-43d9-a6b3-51b99ea2ffce"
      },
      "outputs": [
        {
          "output_type": "execute_result",
          "data": {
            "text/plain": [
              "2385"
            ]
          },
          "metadata": {},
          "execution_count": 52
        }
      ],
      "source": [
        "# Obtain the length of the Pandas Series\n",
        "len(crypto)"
      ]
    },
    {
      "cell_type": "code",
      "execution_count": 53,
      "metadata": {
        "id": "FeeA8actaQ6P",
        "colab": {
          "base_uri": "https://localhost:8080/"
        },
        "outputId": "bdf523f1-e8ee-43c2-c658-1b61114de8d8"
      },
      "outputs": [
        {
          "output_type": "execute_result",
          "data": {
            "text/plain": [
              "61243.08594"
            ]
          },
          "metadata": {},
          "execution_count": 53
        }
      ],
      "source": [
        "# Obtain the maximum value of the Pandas Series\n",
        "max(crypto)   # equivalent to crypto.max()"
      ]
    },
    {
      "cell_type": "code",
      "execution_count": 55,
      "metadata": {
        "id": "fyhw96-JaQ8a",
        "colab": {
          "base_uri": "https://localhost:8080/"
        },
        "outputId": "87d128ce-2fb6-4d11-ee60-8cc57988ed63"
      },
      "outputs": [
        {
          "output_type": "execute_result",
          "data": {
            "text/plain": [
              "178.1029968"
            ]
          },
          "metadata": {},
          "execution_count": 55
        }
      ],
      "source": [
        "# Obtain the minimum value of the Pandas Series\n",
        "min(crypto)   # equivalent to crypto.min()"
      ]
    },
    {
      "cell_type": "markdown",
      "metadata": {
        "id": "NCnRK6oMVCtg"
      },
      "source": [
        "**MINI CHALLENGE #7:**\n",
        "- **Given the following Pandas Series, convert all positive values to negative using python built-in functions**\n",
        "- **Obtain only unique values (ie: Remove duplicates) using python built-in functions**\n",
        "- my_series = pd.Series(data = [-10, 100, -30, 50, 100])\n"
      ]
    },
    {
      "cell_type": "code",
      "execution_count": 57,
      "metadata": {
        "id": "DG-Tjp6PVEpW",
        "colab": {
          "base_uri": "https://localhost:8080/"
        },
        "outputId": "c31a622a-adfc-43ca-8b5d-dfc05239267c"
      },
      "outputs": [
        {
          "output_type": "execute_result",
          "data": {
            "text/plain": [
              "0    -10\n",
              "1   -100\n",
              "2    -30\n",
              "3    -50\n",
              "4   -100\n",
              "dtype: int64"
            ]
          },
          "metadata": {},
          "execution_count": 57
        }
      ],
      "source": [
        "# Given the following Pandas Series, convert all positive values to negative \n",
        "# using python built-in functions\n",
        "my_series_7 = pd.Series(data = [-10, 100, -30, 50, 100])\n",
        "-abs(my_series_7)"
      ]
    },
    {
      "cell_type": "code",
      "source": [
        "# Obtain only unique values (ie: Remove duplicates) using python built-in functions\n",
        "set(my_series_7)"
      ],
      "metadata": {
        "colab": {
          "base_uri": "https://localhost:8080/"
        },
        "id": "y-CiRDWIfUo_",
        "outputId": "72a4e2fb-4585-434a-aae7-4ee482c93a2f"
      },
      "execution_count": 58,
      "outputs": [
        {
          "output_type": "execute_result",
          "data": {
            "text/plain": [
              "{-30, -10, 50, 100}"
            ]
          },
          "metadata": {},
          "execution_count": 58
        }
      ]
    },
    {
      "cell_type": "markdown",
      "metadata": {
        "id": "LKDuJ94RvB85"
      },
      "source": [
        "# TASK #8. SORTING PANDAS SERIES"
      ]
    },
    {
      "cell_type": "code",
      "execution_count": 59,
      "metadata": {
        "id": "f-aRTmn9u7DA"
      },
      "outputs": [],
      "source": [
        "# Let's import CSV data as follows:\n",
        "crypto = pd.read_csv('crypto.csv', squeeze=True)"
      ]
    },
    {
      "cell_type": "code",
      "execution_count": 60,
      "metadata": {
        "id": "DaglhPNevFYC",
        "colab": {
          "base_uri": "https://localhost:8080/"
        },
        "outputId": "b2e416d3-3dc3-4be4-c301-87b458e4adae"
      },
      "outputs": [
        {
          "output_type": "execute_result",
          "data": {
            "text/plain": [
              "119       178.102997\n",
              "122       199.259995\n",
              "121       208.097000\n",
              "120       209.843994\n",
              "123       210.339004\n",
              "            ...     \n",
              "2382    58917.691410\n",
              "2383    58918.832030\n",
              "2384    59095.808590\n",
              "2366    59302.316410\n",
              "2365    61243.085940\n",
              "Name: BTC-USD Price, Length: 2385, dtype: float64"
            ]
          },
          "metadata": {},
          "execution_count": 60
        }
      ],
      "source": [
        "# You can sort the values in the dataframe as follows\n",
        "crypto.sort_values()"
      ]
    },
    {
      "cell_type": "code",
      "execution_count": 61,
      "metadata": {
        "id": "AjzLtDlevFaW",
        "colab": {
          "base_uri": "https://localhost:8080/"
        },
        "outputId": "3d7a1dc8-55dd-4e2c-b2ac-22a05be57270"
      },
      "outputs": [
        {
          "output_type": "execute_result",
          "data": {
            "text/plain": [
              "0         457.334015\n",
              "1         424.440002\n",
              "2         394.795990\n",
              "3         408.903992\n",
              "4         398.821014\n",
              "            ...     \n",
              "2380    55950.746090\n",
              "2381    57750.199220\n",
              "2382    58917.691410\n",
              "2383    58918.832030\n",
              "2384    59095.808590\n",
              "Name: BTC-USD Price, Length: 2385, dtype: float64"
            ]
          },
          "metadata": {},
          "execution_count": 61
        }
      ],
      "source": [
        "# Let's view Pandas Series again after sorting, Note that nothing changed in memory! you have to make sure that inplace is set to True\n",
        "crypto"
      ]
    },
    {
      "cell_type": "code",
      "execution_count": 62,
      "metadata": {
        "id": "Pgt25eXmvFce"
      },
      "outputs": [],
      "source": [
        "# Set inplace = True to ensure that change has taken place in memory \n",
        "crypto.sort_values(inplace=True)"
      ]
    },
    {
      "cell_type": "code",
      "execution_count": 63,
      "metadata": {
        "id": "jEw2Gw_hu7Fo",
        "colab": {
          "base_uri": "https://localhost:8080/"
        },
        "outputId": "e1eb9379-1e2f-48d7-ef1b-d326a864714d"
      },
      "outputs": [
        {
          "output_type": "execute_result",
          "data": {
            "text/plain": [
              "119       178.102997\n",
              "122       199.259995\n",
              "121       208.097000\n",
              "120       209.843994\n",
              "123       210.339004\n",
              "            ...     \n",
              "2382    58917.691410\n",
              "2383    58918.832030\n",
              "2384    59095.808590\n",
              "2366    59302.316410\n",
              "2365    61243.085940\n",
              "Name: BTC-USD Price, Length: 2385, dtype: float64"
            ]
          },
          "metadata": {},
          "execution_count": 63
        }
      ],
      "source": [
        "# Note that now the change (ordering) took place \n",
        "crypto"
      ]
    },
    {
      "cell_type": "code",
      "execution_count": 66,
      "metadata": {
        "id": "6wi0QnU5iGk8",
        "colab": {
          "base_uri": "https://localhost:8080/"
        },
        "outputId": "42aa3706-2dc1-4058-c024-45e1371db624"
      },
      "outputs": [
        {
          "output_type": "execute_result",
          "data": {
            "text/plain": [
              "0         457.334015\n",
              "1         424.440002\n",
              "2         394.795990\n",
              "3         408.903992\n",
              "4         398.821014\n",
              "            ...     \n",
              "2380    55950.746090\n",
              "2381    57750.199220\n",
              "2382    58917.691410\n",
              "2383    58918.832030\n",
              "2384    59095.808590\n",
              "Name: BTC-USD Price, Length: 2385, dtype: float64"
            ]
          },
          "metadata": {},
          "execution_count": 66
        }
      ],
      "source": [
        "# Notice that the indexes are now changed \n",
        "# You can also sort by index (revert back to the original Pandas Series) as follows: \n",
        "crypto.sort_index(inplace=True)\n",
        "crypto"
      ]
    },
    {
      "cell_type": "markdown",
      "metadata": {
        "id": "7bV_Yaq46ZTg"
      },
      "source": [
        "**MINI CHALLENGE #8:**\n",
        "- **Sort the BTC_price_series values in a decending order instead. Make sure to update values in-memory.**"
      ]
    },
    {
      "cell_type": "code",
      "execution_count": 68,
      "metadata": {
        "id": "zw0acoYEkDJB",
        "colab": {
          "base_uri": "https://localhost:8080/"
        },
        "outputId": "981e705a-a214-4f68-eb00-f7c0739df08c"
      },
      "outputs": [
        {
          "output_type": "execute_result",
          "data": {
            "text/plain": [
              "2365    61243.085940\n",
              "2366    59302.316410\n",
              "2384    59095.808590\n",
              "2383    58918.832030\n",
              "2382    58917.691410\n",
              "            ...     \n",
              "123       210.339004\n",
              "120       209.843994\n",
              "121       208.097000\n",
              "122       199.259995\n",
              "119       178.102997\n",
              "Name: BTC-USD Price, Length: 2385, dtype: float64"
            ]
          },
          "metadata": {},
          "execution_count": 68
        }
      ],
      "source": [
        "crypto.sort_values(ascending=False, inplace=True)\n",
        "crypto"
      ]
    },
    {
      "cell_type": "markdown",
      "metadata": {
        "id": "1QT7bBFCkDhh"
      },
      "source": [
        "# TASK #9. PERFORM MATH OPERATIONS ON PANDAS SERIES"
      ]
    },
    {
      "cell_type": "code",
      "execution_count": 69,
      "metadata": {
        "id": "UXFGCV4SkI4O",
        "colab": {
          "base_uri": "https://localhost:8080/"
        },
        "outputId": "26a4df3d-870b-4da3-a1ac-cd0d9bb4e50e"
      },
      "outputs": [
        {
          "output_type": "execute_result",
          "data": {
            "text/plain": [
              "0         457.334015\n",
              "1         424.440002\n",
              "2         394.795990\n",
              "3         408.903992\n",
              "4         398.821014\n",
              "            ...     \n",
              "2380    55950.746090\n",
              "2381    57750.199220\n",
              "2382    58917.691410\n",
              "2383    58918.832030\n",
              "2384    59095.808590\n",
              "Name: BTC-USD Price, Length: 2385, dtype: float64"
            ]
          },
          "metadata": {},
          "execution_count": 69
        }
      ],
      "source": [
        "# Let's import CSV data as follows:\n",
        "crypto = pd.read_csv('crypto.csv', squeeze=True)\n",
        "crypto"
      ]
    },
    {
      "cell_type": "code",
      "execution_count": 70,
      "metadata": {
        "id": "Qpo7M9yYkJPQ",
        "colab": {
          "base_uri": "https://localhost:8080/"
        },
        "outputId": "d2157adb-6dac-4f39-e891-c63b5b48e273"
      },
      "outputs": [
        {
          "output_type": "execute_result",
          "data": {
            "text/plain": [
              "15435379.738852698"
            ]
          },
          "metadata": {},
          "execution_count": 70
        }
      ],
      "source": [
        "# Apply Sum Method on Pandas Series\n",
        "crypto.sum()"
      ]
    },
    {
      "cell_type": "code",
      "execution_count": 71,
      "metadata": {
        "id": "FTSaQpjokJSM",
        "colab": {
          "base_uri": "https://localhost:8080/"
        },
        "outputId": "b9d926c5-13d1-44ab-9323-2ff55b003a87"
      },
      "outputs": [
        {
          "output_type": "execute_result",
          "data": {
            "text/plain": [
              "2385"
            ]
          },
          "metadata": {},
          "execution_count": 71
        }
      ],
      "source": [
        "# Apply count Method on Pandas Series\n",
        "crypto.count()"
      ]
    },
    {
      "cell_type": "code",
      "execution_count": 72,
      "metadata": {
        "id": "I8vVnB_5kj7C",
        "colab": {
          "base_uri": "https://localhost:8080/"
        },
        "outputId": "1944c9a1-0cd4-4c58-86a2-624925ba8e27"
      },
      "outputs": [
        {
          "output_type": "execute_result",
          "data": {
            "text/plain": [
              "61243.08594"
            ]
          },
          "metadata": {},
          "execution_count": 72
        }
      ],
      "source": [
        "# Obtain the maximum value\n",
        "crypto.max()"
      ]
    },
    {
      "cell_type": "code",
      "execution_count": 73,
      "metadata": {
        "id": "u3-XBu-vko2y",
        "colab": {
          "base_uri": "https://localhost:8080/"
        },
        "outputId": "29287f46-2df8-4cc4-b95c-15c4fe872921"
      },
      "outputs": [
        {
          "output_type": "execute_result",
          "data": {
            "text/plain": [
              "178.1029968"
            ]
          },
          "metadata": {},
          "execution_count": 73
        }
      ],
      "source": [
        "# Obtain the minimum value\n",
        "crypto.min()"
      ]
    },
    {
      "cell_type": "code",
      "execution_count": 74,
      "metadata": {
        "id": "jfaK3BsckvAK",
        "colab": {
          "base_uri": "https://localhost:8080/"
        },
        "outputId": "4cb81531-4800-485e-ba6e-9b6246c8ddcc"
      },
      "outputs": [
        {
          "output_type": "execute_result",
          "data": {
            "text/plain": [
              "count     2385.000000\n",
              "mean      6471.857333\n",
              "std       9289.022505\n",
              "min        178.102997\n",
              "25%        454.618988\n",
              "50%       4076.632568\n",
              "75%       8864.766602\n",
              "max      61243.085940\n",
              "Name: BTC-USD Price, dtype: float64"
            ]
          },
          "metadata": {},
          "execution_count": 74
        }
      ],
      "source": [
        "# My favourite: Describe! \n",
        "# Describe is used to obtain all statistical information in one place \n",
        "crypto.describe()"
      ]
    },
    {
      "cell_type": "markdown",
      "metadata": {
        "id": "wfpnZiwxk1cb"
      },
      "source": [
        "**MINI CHALLENGE #9:**\n",
        "- **Obtain the average price of the BTC_price_series using two different methods**"
      ]
    },
    {
      "cell_type": "code",
      "execution_count": 76,
      "metadata": {
        "id": "MFL9i8NWlIH5",
        "colab": {
          "base_uri": "https://localhost:8080/"
        },
        "outputId": "b263c544-c855-434f-9042-300c7b8d3b49"
      },
      "outputs": [
        {
          "output_type": "execute_result",
          "data": {
            "text/plain": [
              "6471.857332852284"
            ]
          },
          "metadata": {},
          "execution_count": 76
        }
      ],
      "source": [
        "crypto.mean()"
      ]
    },
    {
      "cell_type": "code",
      "source": [
        "crypto.sum()/crypto.count()"
      ],
      "metadata": {
        "colab": {
          "base_uri": "https://localhost:8080/"
        },
        "id": "Xg_gB6gDgOZn",
        "outputId": "29b648a6-25a2-4ee8-93a7-cbca9ce09486"
      },
      "execution_count": 77,
      "outputs": [
        {
          "output_type": "execute_result",
          "data": {
            "text/plain": [
              "6471.857332852284"
            ]
          },
          "metadata": {},
          "execution_count": 77
        }
      ]
    },
    {
      "cell_type": "markdown",
      "metadata": {
        "id": "Yi8uUb_eiqxo"
      },
      "source": [
        "# TASK #10. CHECK IF A GIVEN ELEMENT EXISTS IN A PANDAS SERIES"
      ]
    },
    {
      "cell_type": "code",
      "execution_count": 78,
      "metadata": {
        "id": "nEQ94a2RiuiR",
        "colab": {
          "base_uri": "https://localhost:8080/"
        },
        "outputId": "2324f4a9-02ed-4611-d71c-fab548f2591b"
      },
      "outputs": [
        {
          "output_type": "execute_result",
          "data": {
            "text/plain": [
              "0         457.334015\n",
              "1         424.440002\n",
              "2         394.795990\n",
              "3         408.903992\n",
              "4         398.821014\n",
              "            ...     \n",
              "2380    55950.746090\n",
              "2381    57750.199220\n",
              "2382    58917.691410\n",
              "2383    58918.832030\n",
              "2384    59095.808590\n",
              "Name: BTC-USD Price, Length: 2385, dtype: float64"
            ]
          },
          "metadata": {},
          "execution_count": 78
        }
      ],
      "source": [
        "# Let's import CSV data as follows:\n",
        "crypto = pd.read_csv('crypto.csv', squeeze=True)\n",
        "crypto"
      ]
    },
    {
      "cell_type": "code",
      "execution_count": 83,
      "metadata": {
        "id": "x0T4h0CWi-p7",
        "colab": {
          "base_uri": "https://localhost:8080/"
        },
        "outputId": "86a37235-3cac-4fa0-e0b3-6adb4e3aada5"
      },
      "outputs": [
        {
          "output_type": "execute_result",
          "data": {
            "text/plain": [
              "False"
            ]
          },
          "metadata": {},
          "execution_count": 83
        }
      ],
      "source": [
        "# Check if a given number exists in a Pandas Series values\n",
        "# Returns a boolean \"True\" or \"False\"\n",
        "113934 in crypto.values"
      ]
    },
    {
      "cell_type": "code",
      "execution_count": 81,
      "metadata": {
        "id": "GyN5iG1ki-vC",
        "colab": {
          "base_uri": "https://localhost:8080/"
        },
        "outputId": "e829d9e9-3649-4207-920c-18f0af6dc48a"
      },
      "outputs": [
        {
          "output_type": "execute_result",
          "data": {
            "text/plain": [
              "True"
            ]
          },
          "metadata": {},
          "execution_count": 81
        }
      ],
      "source": [
        "# Note that by default 'in' will search in Pandas index and not values\n",
        "5 in crypto"
      ]
    },
    {
      "cell_type": "markdown",
      "metadata": {
        "id": "DjNoVv5vb9ij"
      },
      "source": [
        "**MINI CHALLENGE #10:**\n",
        "- **Check if the stock price 399 exists in the BTC_price_series Pandas Series or not**\n",
        "- **Round stock prices to the nearest integer and check again**"
      ]
    },
    {
      "cell_type": "code",
      "execution_count": 84,
      "metadata": {
        "id": "3BYcu1gpb_Vo",
        "colab": {
          "base_uri": "https://localhost:8080/"
        },
        "outputId": "275af4cc-7d7d-4a17-b0e7-fd1c358cb936"
      },
      "outputs": [
        {
          "output_type": "execute_result",
          "data": {
            "text/plain": [
              "False"
            ]
          },
          "metadata": {},
          "execution_count": 84
        }
      ],
      "source": [
        "399 in crypto.values"
      ]
    },
    {
      "cell_type": "code",
      "execution_count": 85,
      "metadata": {
        "colab": {
          "base_uri": "https://localhost:8080/"
        },
        "id": "lpoBgS53YTe6",
        "outputId": "3acabf8d-a1cd-48dd-d242-b33ec125869d"
      },
      "outputs": [
        {
          "output_type": "execute_result",
          "data": {
            "text/plain": [
              "True"
            ]
          },
          "metadata": {},
          "execution_count": 85
        }
      ],
      "source": [
        "round_crypto = round(crypto)\n",
        "399 in round_crypto.values"
      ]
    }
  ],
  "metadata": {
    "colab": {
      "collapsed_sections": [],
      "name": "Pandas for Data Analysis - Learning Path Part 1.ipynb",
      "provenance": [],
      "include_colab_link": true
    },
    "kernelspec": {
      "display_name": "Python 3",
      "language": "python",
      "name": "python3"
    },
    "language_info": {
      "codemirror_mode": {
        "name": "ipython",
        "version": 3
      },
      "file_extension": ".py",
      "mimetype": "text/x-python",
      "name": "python",
      "nbconvert_exporter": "python",
      "pygments_lexer": "ipython3",
      "version": "3.7.0"
    }
  },
  "nbformat": 4,
  "nbformat_minor": 0
}